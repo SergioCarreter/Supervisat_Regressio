{
 "cells": [
  {
   "cell_type": "code",
   "execution_count": 1,
   "id": "d5028bb9",
   "metadata": {},
   "outputs": [],
   "source": [
    "import pandas as pd\n",
    "import numpy as np\n",
    "\n",
    "import matplotlib.pyplot as plt\n",
    "import seaborn as sns\n",
    "\n",
    "from sklearn.model_selection import train_test_split\n",
    "from sklearn import preprocessing\n",
    "from sklearn.metrics import mean_squared_error\n",
    "\n",
    "from sklearn.preprocessing import PolynomialFeatures\n",
    "\n",
    "from sklearn.linear_model import LinearRegression\n",
    "from sklearn.linear_model import Ridge\n",
    "from sklearn.ensemble import RandomForestRegressor\n",
    "from sklearn.neural_network import MLPRegressor"
   ]
  },
  {
   "cell_type": "code",
   "execution_count": 2,
   "id": "5d50f2c2",
   "metadata": {},
   "outputs": [],
   "source": [
    "data_path_file='DelayedFlights.csv'\n",
    "df =pd.read_csv(data_path_file)"
   ]
  },
  {
   "cell_type": "markdown",
   "id": "4dd30778",
   "metadata": {},
   "source": [
    "Centraremos el analisis en las caracteristicas de interés: features y lo guardaremos en el dataframe X"
   ]
  },
  {
   "cell_type": "code",
   "execution_count": 3,
   "id": "c7c4358c",
   "metadata": {},
   "outputs": [],
   "source": [
    "features=[ 'DayOfWeek', 'DepTime', 'CRSDepTime', 'ArrTime', 'CRSArrTime', 'ActualElapsedTime',\n",
    "          'CRSElapsedTime', 'AirTime', 'ArrDelay','DepDelay', 'Distance', 'Cancelled', 'Diverted', 'UniqueCarrier']"
   ]
  },
  {
   "cell_type": "code",
   "execution_count": 4,
   "id": "b6b6c819",
   "metadata": {},
   "outputs": [],
   "source": [
    "X= df[features]"
   ]
  },
  {
   "cell_type": "code",
   "execution_count": 5,
   "id": "2da0a3d2",
   "metadata": {},
   "outputs": [
    {
     "data": {
      "text/plain": [
       "(1936758, 14)"
      ]
     },
     "execution_count": 5,
     "metadata": {},
     "output_type": "execute_result"
    }
   ],
   "source": [
    "X.shape"
   ]
  },
  {
   "cell_type": "markdown",
   "id": "ef7a4d4b",
   "metadata": {},
   "source": [
    "Dado:\n",
    "\n",
    "* la variablidad en los retrasos por compañias \n",
    "* el gran numero de datos disponibles\n",
    "* Incluir la variable categorica 'UniqueCarrier' con 20 valores diferentes con un One-Hot Encoding seria ineficiente.\n",
    "\n",
    "Escogeremos una compañia para realizar nuestro modelo.\n",
    "\n",
    "Supongamos que la segunda compañia en volumen de vuelos American Airlines 'AA' como parte de una estrategia de mejora quiere obtener un modelo de los retrasos que tiene."
   ]
  },
  {
   "cell_type": "code",
   "execution_count": 6,
   "id": "41b87279",
   "metadata": {},
   "outputs": [],
   "source": [
    "X = X[ X['UniqueCarrier'] == 'AA' ]"
   ]
  },
  {
   "cell_type": "code",
   "execution_count": 7,
   "id": "495b2dd2",
   "metadata": {},
   "outputs": [
    {
     "data": {
      "text/plain": [
       "(191865, 14)"
      ]
     },
     "execution_count": 7,
     "metadata": {},
     "output_type": "execute_result"
    }
   ],
   "source": [
    "X.shape"
   ]
  },
  {
   "cell_type": "markdown",
   "id": "ed88139e",
   "metadata": {},
   "source": [
    "Supongamos que **queremos entrenar un modelo que sea capaz de estimar la caracteristica 'ArrDelay' una vez el vuelo ya ha salido pero obviamente aun no ha llegado**. \n",
    "\n",
    "Para ello 'Arrdelay' no ha de tener faltantes. tratandose de un numero relativamente bajo descartaremos las filas con 'ArrDelay' faltantes para toda la matriz de caracteristicas X"
   ]
  },
  {
   "cell_type": "code",
   "execution_count": 8,
   "id": "75ff2881",
   "metadata": {},
   "outputs": [],
   "source": [
    "nodelay = ~(X['ArrDelay'].isnull())\n",
    "X= X[nodelay]"
   ]
  },
  {
   "cell_type": "code",
   "execution_count": 9,
   "id": "61107930",
   "metadata": {},
   "outputs": [
    {
     "data": {
      "text/plain": [
       "(190910, 14)"
      ]
     },
     "execution_count": 9,
     "metadata": {},
     "output_type": "execute_result"
    }
   ],
   "source": [
    "X.shape"
   ]
  },
  {
   "cell_type": "markdown",
   "id": "fb6f0349",
   "metadata": {},
   "source": [
    "Guardamos en la variable y la caracteristica 'ArrDelay' y la eliminaremos de la matriz de caracteristicas X"
   ]
  },
  {
   "cell_type": "code",
   "execution_count": 10,
   "id": "41b36403",
   "metadata": {},
   "outputs": [],
   "source": [
    "y= X.ArrDelay\n",
    "X.drop( columns='ArrDelay', inplace= True )"
   ]
  },
  {
   "cell_type": "code",
   "execution_count": 11,
   "id": "db4d8772",
   "metadata": {},
   "outputs": [
    {
     "data": {
      "text/plain": [
       "(190910, 13)"
      ]
     },
     "execution_count": 11,
     "metadata": {},
     "output_type": "execute_result"
    }
   ],
   "source": [
    "X.shape"
   ]
  },
  {
   "cell_type": "markdown",
   "id": "eb5ad223",
   "metadata": {},
   "source": [
    "Por tanto las caracteristicas de la matrix X seran las contenidas en la lista feat_X. Por ser nulas Cancelled y Diverted se eliminan tambien. **Como el vuelo no ha llegado en el momento de estimar su retraso, no dispondremos de 'ArrTime', 'ActualElapsedTime' ni 'Airtime'**"
   ]
  },
  {
   "cell_type": "code",
   "execution_count": 12,
   "id": "8a69b49e",
   "metadata": {},
   "outputs": [],
   "source": [
    "feat_X=[ 'DayOfWeek', 'DepTime', 'CRSDepTime', 'CRSArrTime',\n",
    "          'CRSElapsedTime','DepDelay', 'Distance']"
   ]
  },
  {
   "cell_type": "code",
   "execution_count": 13,
   "id": "aafa911c",
   "metadata": {},
   "outputs": [],
   "source": [
    "X= X[feat_X]"
   ]
  },
  {
   "cell_type": "code",
   "execution_count": 14,
   "id": "6537f5eb",
   "metadata": {},
   "outputs": [
    {
     "data": {
      "text/plain": [
       "(190910, 7)"
      ]
     },
     "execution_count": 14,
     "metadata": {},
     "output_type": "execute_result"
    }
   ],
   "source": [
    "X.shape"
   ]
  },
  {
   "cell_type": "markdown",
   "id": "4a4b7507",
   "metadata": {},
   "source": [
    "Para los modelos Lineales y RandomForest no es necesario standardizar los datos. No obstante **para el modelo MLPRegressor si es necesario para mejorar la convergencia.** Asi pues **standardizaremos los datos de la matriz X**\n",
    "\n",
    "Como se standardiza en base a los datos de train como paso previo separamos con train_test_split()"
   ]
  },
  {
   "cell_type": "code",
   "execution_count": 15,
   "id": "d519eee1",
   "metadata": {},
   "outputs": [
    {
     "name": "stdout",
     "output_type": "stream",
     "text": [
      "(152728, 7) (38182, 7) (152728,) (38182,)\n"
     ]
    }
   ],
   "source": [
    "# Dividimos los datos (X,y) en training y test (X_train, X_test, y_train, y_test)\n",
    "\n",
    "X_train, X_test, y_train, y_test = train_test_split(X, y, train_size=0.8, test_size=0.2, random_state=33)\n",
    "print(X_train.shape, X_test.shape, y_train.shape, y_test.shape)"
   ]
  },
  {
   "cell_type": "markdown",
   "id": "8bb90852",
   "metadata": {},
   "source": [
    "Standardizamos ambos dataframes: X_train, X_test"
   ]
  },
  {
   "cell_type": "code",
   "execution_count": 16,
   "id": "896439fd",
   "metadata": {},
   "outputs": [],
   "source": [
    "scaler = preprocessing.StandardScaler()"
   ]
  },
  {
   "cell_type": "code",
   "execution_count": 17,
   "id": "5caa1985",
   "metadata": {},
   "outputs": [],
   "source": [
    "# Fit to TRAIN data. Then transform it.\n",
    "M_train = scaler.fit_transform(X_train)\n",
    "#Volvemos a meter la matriz en dataframe\n",
    "X_train = pd.DataFrame(M_train, columns= feat_X )\n",
    "\n",
    "# Transform TEST data \n",
    "M_test = scaler.transform(X_test)\n",
    "#Volvemos a meter la matriz en dataframe\n",
    "X_test= pd.DataFrame(M_test, columns= feat_X )"
   ]
  },
  {
   "cell_type": "code",
   "execution_count": 18,
   "id": "65ae165f",
   "metadata": {},
   "outputs": [
    {
     "name": "stdout",
     "output_type": "stream",
     "text": [
      "(152728, 7) (38182, 7)\n"
     ]
    }
   ],
   "source": [
    "print(X_train.shape, X_test.shape)"
   ]
  },
  {
   "cell_type": "markdown",
   "id": "9e2dc4b4",
   "metadata": {},
   "source": [
    "--------------------------\n",
    "## Ejercicio 1\n",
    "\n",
    "\n",
    "Crea almenos 3 modelos de Regresion diferentes para intentar predecir el retraso de los vuelos 'ArrDelay'\n",
    "\n",
    "-------------------------\n"
   ]
  },
  {
   "cell_type": "markdown",
   "id": "b1b3324d",
   "metadata": {},
   "source": [
    "Usaremos los siguientes modelos:\n",
    "\n",
    "* Modelo Lineal\n",
    "* Random Forest\n",
    "* MLP Regressor\n",
    "\n",
    "Generaremos instancias de los modelos, los entrenaremos y realizaremos las predicciones para todos ellos con los parametros por defecto."
   ]
  },
  {
   "cell_type": "code",
   "execution_count": 19,
   "id": "aaea2741",
   "metadata": {},
   "outputs": [],
   "source": [
    "# Modelo Lineal\n",
    "linear_1 = LinearRegression()\n",
    "\n",
    "#Entrenamos el modelo lineal\n",
    "linear_1.fit(X_train, y_train)\n",
    "\n",
    "#Predecimos a partir de los datos de test\n",
    "y_pred_lin1= linear_1.predict(X_test)"
   ]
  },
  {
   "cell_type": "code",
   "execution_count": 20,
   "id": "da7ff406",
   "metadata": {},
   "outputs": [],
   "source": [
    "# Modelo Random Forest\n",
    "forest_1 = RandomForestRegressor()\n",
    "\n",
    "#Entrenamos el Forest Regressor\n",
    "forest_1.fit(X_train, y_train)\n",
    "\n",
    "#Predecimos a partir de los datos de test\n",
    "y_pred_for1 = forest_1.predict(X_test)"
   ]
  },
  {
   "cell_type": "code",
   "execution_count": 21,
   "id": "8ffa17ed",
   "metadata": {},
   "outputs": [
    {
     "name": "stderr",
     "output_type": "stream",
     "text": [
      "c:\\python38\\lib\\site-packages\\sklearn\\neural_network\\_multilayer_perceptron.py:692: ConvergenceWarning: Stochastic Optimizer: Maximum iterations (200) reached and the optimization hasn't converged yet.\n",
      "  warnings.warn(\n"
     ]
    }
   ],
   "source": [
    "# Modelo MLPRegressor\n",
    "mlp_1 = MLPRegressor()\n",
    "\n",
    "#Entrenamos el MLP Regressor\n",
    "mlp_1.fit(X_train, y_train)\n",
    "\n",
    "#Predecimos a partir de los datos de test\n",
    "y_pred_mlp1 = mlp_1.predict(X_test)"
   ]
  },
  {
   "cell_type": "markdown",
   "id": "ca7bcaff",
   "metadata": {},
   "source": [
    "--------------------------\n",
    "## Ejercicio 2\n",
    "\n",
    "Compara los modelos segun el MSE y el R2.\n",
    "\n",
    "--------------------------"
   ]
  },
  {
   "cell_type": "markdown",
   "id": "0ece6e1c",
   "metadata": {},
   "source": [
    "Evaluaremos la calidad del modelo con los datos de test"
   ]
  },
  {
   "cell_type": "code",
   "execution_count": 22,
   "id": "21c085a7",
   "metadata": {},
   "outputs": [],
   "source": [
    "r2_lin1 = linear_1.score(X_test, y_test)\n",
    "mse_lin1 = mean_squared_error(y_test, y_pred_lin1)\n",
    "\n",
    "r2_for1 = forest_1.score(X_test, y_test)\n",
    "mse_for1 = mean_squared_error(y_test, y_pred_for1)\n",
    "\n",
    "r2_mlp1= mlp_1.score(X_test, y_test)\n",
    "mse_mlp1 = mean_squared_error(y_test, y_pred_mlp1)"
   ]
  },
  {
   "cell_type": "code",
   "execution_count": 23,
   "id": "e72d5056",
   "metadata": {},
   "outputs": [
    {
     "name": "stdout",
     "output_type": "stream",
     "text": [
      "Linear Regression | R^2:  0.906291  |  MSE:  341.136325\n",
      "Random Forest     | R^2:  0.898135  |  MSE:  370.827487\n",
      "MLPRegressor      | R^2:  0.908065  |  MSE:  334.676596\n"
     ]
    }
   ],
   "source": [
    "print('Linear Regression | R^2: ', round(r2_lin1,6), ' | ', 'MSE: ', round(mse_lin1,6) )\n",
    "print('Random Forest     | R^2: ', round(r2_for1,6), ' | ', 'MSE: ', round(mse_for1,6) )\n",
    "print('MLPRegressor      | R^2: ', round(r2_mlp1,6), ' | ', 'MSE: ', round(mse_mlp1,6) )"
   ]
  },
  {
   "cell_type": "code",
   "execution_count": 24,
   "id": "b684e9d1",
   "metadata": {},
   "outputs": [
    {
     "data": {
      "text/plain": [
       "array([-0.61975558,  0.70175638, -1.34389083,  0.17025827,  0.85015817,\n",
       "       58.50323224, -1.71995203])"
      ]
     },
     "execution_count": 24,
     "metadata": {},
     "output_type": "execute_result"
    }
   ],
   "source": [
    "linear_1.coef_"
   ]
  },
  {
   "cell_type": "markdown",
   "id": "7994ce65",
   "metadata": {},
   "source": [
    "El orden de los modelos de mejor a peor serian el MLPRegressor, Regresion Lineal y por ultimo Random Forest. Orden creciente de R^2 y decreciente de MSE."
   ]
  },
  {
   "cell_type": "markdown",
   "id": "799bc728",
   "metadata": {},
   "source": [
    "---------------------------\n",
    "\n",
    "## Ejercicio 3\n",
    "\n",
    "\n",
    "Utiliza los diferentes parametros que admiten\n",
    "\n",
    "----------------------------------------------"
   ]
  },
  {
   "cell_type": "markdown",
   "id": "51cd0cc6",
   "metadata": {},
   "source": [
    "Para el modelo lineal implementaremos la variante Ridge que incluye en la funcion a minimizar la suma de los coeficientes al cuadrado.\n",
    "\n",
    "Ridge Linear Regression:\n",
    "\n",
    "* alpha: factor sobre la suma de coeficientes del modelo al cuadrado. alpha=0 seria el modelo lineal standard."
   ]
  },
  {
   "cell_type": "markdown",
   "id": "bb34d7d2",
   "metadata": {},
   "source": [
    "Random Forest:\n",
    "* n_estimators: numero de arboles del modelo\n",
    "* max_depth: Maximos niveles de division del modelo\n",
    "* min_samples_split: Numero minimo de muestras que ha de tener el nodo para poder hacer split. \n",
    "* min_samples_leaf: Solo se hará split del nodo si deja como minimo min_samples_leaf en ambas ramas.\n",
    "* criterion: El criterio de optimizacion. Por defecto es el squared error.\n",
    "* n_jobs: Divide la computacion del modelo en los nucleos del procesador del ordenador local, 4 en mi caso."
   ]
  },
  {
   "cell_type": "markdown",
   "id": "b13b14de",
   "metadata": {},
   "source": [
    "MLP Regressor:\n",
    "* hidden_layer_sizes: Tamaño de las capas ocultas. Se da en tupla. La red ademas tendra una capa incial y la final de salida.\n",
    "* activation: Funcion de activacion. Por defecto la 'relu'\n",
    "* solver: El solver tiene 3 opciones la default es 'adam'\n",
    "* learning_rate: fija el tipo de actualizacion de los pesos, por default='constant'.\n",
    "* learning_rate_init: El valor inicial del learning_rate es 0.001\n",
    "* tol: Itera hasta la convergencia marcada por este parametro, por defecto 1E-4.  \n",
    "* max_iter: Si no llega a la convergencia para en la iteracion marcada por este parametro"
   ]
  },
  {
   "cell_type": "code",
   "execution_count": 25,
   "id": "70b3a4e0",
   "metadata": {},
   "outputs": [],
   "source": [
    "linear_2 = Ridge(alpha=1, random_state=33)\n",
    "\n",
    "#Entrenamos el modelo lineal\n",
    "linear_2.fit(X_train, y_train)\n",
    "\n",
    "#Predecimos a partir de los datos de test\n",
    "y_pred_lin2 = linear_2.predict(X_test)"
   ]
  },
  {
   "cell_type": "code",
   "execution_count": 26,
   "id": "781d7c45",
   "metadata": {},
   "outputs": [],
   "source": [
    "# Modelo Random Forest\n",
    "forest_2 = RandomForestRegressor(n_estimators = 200, \n",
    "                               max_depth=10, min_samples_split= 50, min_samples_leaf=20,\n",
    "                               random_state = 33, criterion= 'squared_error', n_jobs=4)\n",
    "\n",
    "#Entrenamos el Forest Regressor\n",
    "forest_2.fit(X_train, y_train)\n",
    "\n",
    "#Predecimos a partir de los datos de test\n",
    "y_pred_for2 = forest_2.predict(X_test)"
   ]
  },
  {
   "cell_type": "code",
   "execution_count": 27,
   "id": "0e9cd7a1",
   "metadata": {},
   "outputs": [],
   "source": [
    "# Modelo MLPRegressor\n",
    "mlp_2 = MLPRegressor(hidden_layer_sizes= (80,40,20), activation='relu', solver='adam',\n",
    "                      learning_rate_init= 0.05, learning_rate='adaptive', max_iter=100,\n",
    "                      random_state=33)\n",
    "\n",
    "#Entrenamos el MLP Regressor\n",
    "mlp_2.fit(X_train, y_train)\n",
    "\n",
    "#Predecimos a partir de los datos de test\n",
    "y_pred_mlp2 = mlp_2.predict(X_test)"
   ]
  },
  {
   "cell_type": "code",
   "execution_count": 28,
   "id": "9d60f8d4",
   "metadata": {},
   "outputs": [],
   "source": [
    "r2_lin2 = linear_2.score(X_test, y_test)\n",
    "mse_lin2 = mean_squared_error(y_test, y_pred_lin2)\n",
    "\n",
    "r2_for2 = forest_2.score(X_test, y_test)\n",
    "mse_for2 = mean_squared_error(y_test, y_pred_for2)\n",
    "\n",
    "r2_mlp2= mlp_2.score(X_test, y_test)\n",
    "mse_mlp2 = mean_squared_error(y_test, y_pred_mlp2)"
   ]
  },
  {
   "cell_type": "code",
   "execution_count": 29,
   "id": "40d1f979",
   "metadata": {},
   "outputs": [
    {
     "name": "stdout",
     "output_type": "stream",
     "text": [
      "Linear Regression | R^2:  0.906291  |  MSE:  341.136325\n",
      "Ridge Linear Reg  | R^2:  0.906291  |  MSE:  341.136301\n",
      "Random Forest 1   | R^2:  0.898135  |  MSE:  370.827487\n",
      "Random Forest 2   | R^2:  0.906687  |  MSE:  339.693849\n",
      "MLPRegressor  1   | R^2:  0.908065  |  MSE:  334.676596\n",
      "MLPRegressor  2   | R^2:  0.906442  |  MSE:  340.585975\n"
     ]
    }
   ],
   "source": [
    "print('Linear Regression | R^2: ', round(r2_lin1,6), ' | ', 'MSE: ', round(mse_lin1,6) )\n",
    "print('Ridge Linear Reg  | R^2: ', round(r2_lin2,6), ' | ', 'MSE: ', round(mse_lin2,6) )\n",
    "print('Random Forest 1   | R^2: ', round(r2_for1,6), ' | ', 'MSE: ', round(mse_for1,6) )\n",
    "print('Random Forest 2   | R^2: ', round(r2_for2,6), ' | ', 'MSE: ', round(mse_for2,6) )\n",
    "print('MLPRegressor  1   | R^2: ', round(r2_mlp1,6), ' | ', 'MSE: ', round(mse_mlp1,6) )\n",
    "print('MLPRegressor  2   | R^2: ', round(r2_mlp2,6), ' | ', 'MSE: ', round(mse_mlp2,6) )"
   ]
  },
  {
   "cell_type": "markdown",
   "id": "03c6c459",
   "metadata": {},
   "source": [
    "--------------------\n",
    "\n",
    "## Ejercicio 4\n",
    "\n",
    "Compara el rendimiento entre usar o no usar el train/test\n",
    "\n",
    "----------------------"
   ]
  },
  {
   "cell_type": "code",
   "execution_count": 30,
   "id": "0c1670ba",
   "metadata": {},
   "outputs": [],
   "source": [
    "#Standardizamos todo el database\n",
    "scaler2 = preprocessing.StandardScaler()\n",
    "# Fit to ALL data. Then transform it.\n",
    "M = scaler2.fit_transform(X)\n",
    "#Volvemos a meter la matriz en el dataframe XX\n",
    "XX = pd.DataFrame(M, columns= feat_X )"
   ]
  },
  {
   "cell_type": "code",
   "execution_count": 31,
   "id": "681d9bd3",
   "metadata": {},
   "outputs": [
    {
     "data": {
      "text/plain": [
       "(190910, 7)"
      ]
     },
     "execution_count": 31,
     "metadata": {},
     "output_type": "execute_result"
    }
   ],
   "source": [
    "XX.shape"
   ]
  },
  {
   "cell_type": "code",
   "execution_count": 32,
   "id": "ddab5fc9",
   "metadata": {},
   "outputs": [],
   "source": [
    "# Modelo Lineal\n",
    "model1 = LinearRegression(n_jobs=4)\n",
    "model1.fit(XX, y)\n",
    "y_pred_1= model1.predict(XX)\n",
    "\n",
    "# Modelo Random Forest\n",
    "model2 = RandomForestRegressor(n_estimators = 200, \n",
    "                               max_depth=10, min_samples_split= 50, min_samples_leaf=20,\n",
    "                               random_state = 33, criterion= 'squared_error', n_jobs=4)\n",
    "model2.fit(XX, y)\n",
    "y_pred_2= model2.predict(XX)\n",
    "\n",
    "# Modelo MLPRegressor\n",
    "model3 = MLPRegressor(hidden_layer_sizes= (80,40,20), activation='relu', solver='adam',\n",
    "                      learning_rate_init= 0.05, learning_rate='adaptive', max_iter=100,\n",
    "                      random_state=33)\n",
    "model3.fit(XX, y)\n",
    "y_pred_3= model3.predict(XX)"
   ]
  },
  {
   "cell_type": "markdown",
   "id": "1438b85f",
   "metadata": {},
   "source": [
    "Evaluamos las predicciones"
   ]
  },
  {
   "cell_type": "code",
   "execution_count": 33,
   "id": "a4972b63",
   "metadata": {},
   "outputs": [
    {
     "name": "stdout",
     "output_type": "stream",
     "text": [
      "Linear Reg. All Data | R^2:  0.90566   |  MSE: 354.044691\n",
      "Ridge Linear Test D  | R^2:  0.906291  |  MSE:  341.136301\n",
      "Forest Reg. All Data | R^2:  0.909153  |  MSE: 340.937218\n",
      "Random For2  Test D  | R^2:  0.906687  |  MSE:  339.693849\n",
      "MLP Reg.  All Data   | R^2:  0.906488  |  MSE: 350.937601\n",
      "MLPRegressor  2      | R^2:  0.906442  |  MSE:  340.585975\n"
     ]
    }
   ],
   "source": [
    "r2_m1= model1.score(XX, y)\n",
    "mse1 = mean_squared_error(y, y_pred_1)\n",
    "r2_m2= model2.score(XX, y)\n",
    "mse2 = mean_squared_error(y, y_pred_2)\n",
    "r2_m3= model3.score(XX, y)\n",
    "mse3 = mean_squared_error(y, y_pred_3)\n",
    "\n",
    "print('Linear Reg. All Data | R^2: ', round(r2_m1,6), '  | ', 'MSE:', round(mse1,6) )\n",
    "print('Ridge Linear Test D  | R^2: ', round(r2_lin2,6), ' | ', 'MSE: ', round(mse_lin2,6) )\n",
    "print('Forest Reg. All Data | R^2: ', round(r2_m2,6), ' | ', 'MSE:', round(mse2,6) )\n",
    "print('Random For2  Test D  | R^2: ', round(r2_for2,6), ' | ', 'MSE: ', round(mse_for2,6) )\n",
    "print('MLP Reg.  All Data   | R^2: ', round(r2_m3,6), ' | ', 'MSE:', round(mse3,6) )\n",
    "print('MLPRegressor  2      | R^2: ', round(r2_mlp2,6), ' | ', 'MSE: ', round(mse_mlp2,6) )"
   ]
  },
  {
   "cell_type": "markdown",
   "id": "38433abd",
   "metadata": {},
   "source": [
    "En general hacer la validacion con los mismos datos con los que se entrena el modelo dara R^2 mayor y MSE menor. Esto indicaria que las predicciones son mejores. No obstante es mejor hacer un test del modelo con datos que no hayan intervenido en la construccion del modelo. \n",
    "\n",
    "Asi se puede valorar la prediccion de datos que el modelo no ha usado. El sobre-entreno o 'Over Fitting' puede llevar a un modelo que prediga con precision los datos con los que fue construido pero le resulte dificil realizar una buena prediccion de datos que aun no ha visto."
   ]
  },
  {
   "cell_type": "markdown",
   "id": "dd8e7338",
   "metadata": {},
   "source": [
    "-----------------------\n",
    "\n",
    "## Ejercicio 5\n",
    "\n",
    "Realiza algun proceso de Ingenieria de Variables para mejorar la prediccion.\n",
    "\n",
    "-----------------------"
   ]
  },
  {
   "cell_type": "markdown",
   "id": "14389901",
   "metadata": {},
   "source": [
    "Añadiremos la mejor variable predictora 'DepDelay' al cuadrado y al cubo en la matriz de caracteristicas. "
   ]
  },
  {
   "cell_type": "code",
   "execution_count": 34,
   "id": "efdf53c6",
   "metadata": {},
   "outputs": [],
   "source": [
    "X_fe = X"
   ]
  },
  {
   "cell_type": "code",
   "execution_count": 35,
   "id": "ef43a13c",
   "metadata": {},
   "outputs": [
    {
     "data": {
      "text/plain": [
       "['DayOfWeek',\n",
       " 'DepTime',\n",
       " 'CRSDepTime',\n",
       " 'CRSArrTime',\n",
       " 'CRSElapsedTime',\n",
       " 'DepDelay',\n",
       " 'Distance',\n",
       " 'DD2',\n",
       " 'DD3']"
      ]
     },
     "execution_count": 35,
     "metadata": {},
     "output_type": "execute_result"
    }
   ],
   "source": [
    "feat_X_fe = feat_X\n",
    "feat_X_fe.append('DD2')\n",
    "feat_X_fe.append('DD3')\n",
    "feat_X_fe"
   ]
  },
  {
   "cell_type": "code",
   "execution_count": 36,
   "id": "a4d63b9a",
   "metadata": {},
   "outputs": [],
   "source": [
    "X_fe['DD2']=X_fe['DepDelay']**2"
   ]
  },
  {
   "cell_type": "code",
   "execution_count": 37,
   "id": "6b8948b2",
   "metadata": {},
   "outputs": [],
   "source": [
    "X_fe['DD3']=X_fe['DepDelay']**3"
   ]
  },
  {
   "cell_type": "code",
   "execution_count": 38,
   "id": "8dc2eb8f",
   "metadata": {},
   "outputs": [
    {
     "data": {
      "text/html": [
       "<div>\n",
       "<style scoped>\n",
       "    .dataframe tbody tr th:only-of-type {\n",
       "        vertical-align: middle;\n",
       "    }\n",
       "\n",
       "    .dataframe tbody tr th {\n",
       "        vertical-align: top;\n",
       "    }\n",
       "\n",
       "    .dataframe thead th {\n",
       "        text-align: right;\n",
       "    }\n",
       "</style>\n",
       "<table border=\"1\" class=\"dataframe\">\n",
       "  <thead>\n",
       "    <tr style=\"text-align: right;\">\n",
       "      <th></th>\n",
       "      <th>DayOfWeek</th>\n",
       "      <th>DepTime</th>\n",
       "      <th>CRSDepTime</th>\n",
       "      <th>CRSArrTime</th>\n",
       "      <th>CRSElapsedTime</th>\n",
       "      <th>DepDelay</th>\n",
       "      <th>Distance</th>\n",
       "      <th>DD2</th>\n",
       "      <th>DD3</th>\n",
       "    </tr>\n",
       "  </thead>\n",
       "  <tbody>\n",
       "    <tr>\n",
       "      <th>145160</th>\n",
       "      <td>3</td>\n",
       "      <td>906.0</td>\n",
       "      <td>900</td>\n",
       "      <td>1225</td>\n",
       "      <td>385.0</td>\n",
       "      <td>6.0</td>\n",
       "      <td>2475</td>\n",
       "      <td>36.0</td>\n",
       "      <td>216.0</td>\n",
       "    </tr>\n",
       "    <tr>\n",
       "      <th>145161</th>\n",
       "      <td>4</td>\n",
       "      <td>915.0</td>\n",
       "      <td>900</td>\n",
       "      <td>1225</td>\n",
       "      <td>385.0</td>\n",
       "      <td>15.0</td>\n",
       "      <td>2475</td>\n",
       "      <td>225.0</td>\n",
       "      <td>3375.0</td>\n",
       "    </tr>\n",
       "    <tr>\n",
       "      <th>145162</th>\n",
       "      <td>4</td>\n",
       "      <td>918.0</td>\n",
       "      <td>900</td>\n",
       "      <td>1225</td>\n",
       "      <td>385.0</td>\n",
       "      <td>18.0</td>\n",
       "      <td>2475</td>\n",
       "      <td>324.0</td>\n",
       "      <td>5832.0</td>\n",
       "    </tr>\n",
       "    <tr>\n",
       "      <th>145163</th>\n",
       "      <td>5</td>\n",
       "      <td>922.0</td>\n",
       "      <td>900</td>\n",
       "      <td>1225</td>\n",
       "      <td>385.0</td>\n",
       "      <td>22.0</td>\n",
       "      <td>2475</td>\n",
       "      <td>484.0</td>\n",
       "      <td>10648.0</td>\n",
       "    </tr>\n",
       "    <tr>\n",
       "      <th>145164</th>\n",
       "      <td>5</td>\n",
       "      <td>946.0</td>\n",
       "      <td>930</td>\n",
       "      <td>1750</td>\n",
       "      <td>320.0</td>\n",
       "      <td>16.0</td>\n",
       "      <td>2475</td>\n",
       "      <td>256.0</td>\n",
       "      <td>4096.0</td>\n",
       "    </tr>\n",
       "  </tbody>\n",
       "</table>\n",
       "</div>"
      ],
      "text/plain": [
       "        DayOfWeek  DepTime  CRSDepTime  CRSArrTime  CRSElapsedTime  DepDelay  \\\n",
       "145160          3    906.0         900        1225           385.0       6.0   \n",
       "145161          4    915.0         900        1225           385.0      15.0   \n",
       "145162          4    918.0         900        1225           385.0      18.0   \n",
       "145163          5    922.0         900        1225           385.0      22.0   \n",
       "145164          5    946.0         930        1750           320.0      16.0   \n",
       "\n",
       "        Distance    DD2      DD3  \n",
       "145160      2475   36.0    216.0  \n",
       "145161      2475  225.0   3375.0  \n",
       "145162      2475  324.0   5832.0  \n",
       "145163      2475  484.0  10648.0  \n",
       "145164      2475  256.0   4096.0  "
      ]
     },
     "execution_count": 38,
     "metadata": {},
     "output_type": "execute_result"
    }
   ],
   "source": [
    "X_fe.head()"
   ]
  },
  {
   "cell_type": "code",
   "execution_count": 39,
   "id": "c6201d4d",
   "metadata": {},
   "outputs": [
    {
     "name": "stdout",
     "output_type": "stream",
     "text": [
      "(152728, 9) (38182, 9) (152728,) (38182,)\n"
     ]
    }
   ],
   "source": [
    "# Dividimos los datos (X,y) en training y test (X_train, X_test, y_train, y_test)\n",
    "\n",
    "X_fe_train, X_fe_test, y_train, y_test = train_test_split(X_fe, y, train_size=0.8, test_size=0.2, random_state=33)\n",
    "print(X_fe_train.shape, X_fe_test.shape, y_train.shape, y_test.shape)"
   ]
  },
  {
   "cell_type": "code",
   "execution_count": 40,
   "id": "6bad7b2f",
   "metadata": {},
   "outputs": [],
   "source": [
    "scaler3 = preprocessing.StandardScaler()"
   ]
  },
  {
   "cell_type": "code",
   "execution_count": 41,
   "id": "4bdaa9e4",
   "metadata": {},
   "outputs": [],
   "source": [
    "# Fit to TRAIN data. Then transform it.\n",
    "M_fe_train = scaler3.fit_transform(X_fe_train)\n",
    "#Volvemos a meter la matriz en dataframe\n",
    "X_fe_train = pd.DataFrame(M_fe_train, columns= feat_X_fe )\n",
    "\n",
    "# Transform TEST data \n",
    "M_fe_test = scaler3.transform(X_fe_test)\n",
    "#Volvemos a meter la matriz en dataframe\n",
    "X_fe_test= pd.DataFrame(M_fe_test, columns= feat_X_fe )"
   ]
  },
  {
   "cell_type": "code",
   "execution_count": 42,
   "id": "95c2fc7f",
   "metadata": {},
   "outputs": [],
   "source": [
    "# Modelo Lineal\n",
    "model1b = LinearRegression(n_jobs=4)\n",
    "\n",
    "#Entrenamos el modelo lineal\n",
    "model1b.fit(X_fe_train, y_train)\n",
    "\n",
    "y_pred_1b= model1b.predict(X_fe_test)"
   ]
  },
  {
   "cell_type": "code",
   "execution_count": 43,
   "id": "7e31c5f0",
   "metadata": {},
   "outputs": [
    {
     "name": "stdout",
     "output_type": "stream",
     "text": [
      "Linear Regression X_fe Validation Results: R^2: 0.906407 MSE: 340.715051\n"
     ]
    }
   ],
   "source": [
    "r2_m1b= model1b.score(X_fe_test, y_test)\n",
    "mse1b = mean_squared_error(y_test, y_pred_1b)\n",
    "\n",
    "print('Linear Regression X_fe Validation Results: R^2:', round(r2_m1b,6), 'MSE:', round(mse1b,6) )"
   ]
  },
  {
   "cell_type": "markdown",
   "id": "c3e97334",
   "metadata": {},
   "source": [
    "Observamos como la introduccion de 'DepDelay' al cuadrado y al cubo ha mejorado levemente la prediccion del modelo. El modelo lineal sin estas variables habia dado R^2:0.906291 y MSE:341.1363. Observamos un valor de R^2 mayor y menor MSE para las predicciones realizadas sobre el conjunto de datos de test.\n",
    "\n"
   ]
  },
  {
   "cell_type": "markdown",
   "id": "b7a81466",
   "metadata": {},
   "source": [
    "----------------------------\n",
    "\n",
    "## Ejercicio 6\n",
    "\n",
    "No utilices la variable 'DepDelay' en las prediciones\n",
    "\n",
    "----------------------------"
   ]
  },
  {
   "cell_type": "markdown",
   "id": "12d7e5ac",
   "metadata": {},
   "source": [
    "Definamos la lista de variables a usar X_train_red y X_test_red "
   ]
  },
  {
   "cell_type": "code",
   "execution_count": 44,
   "id": "1e8b2c4e",
   "metadata": {},
   "outputs": [],
   "source": [
    "X_train_red = X_train.drop( columns='DepDelay', inplace= False )\n",
    "X_test_red = X_test.drop(columns='DepDelay', inplace=False )"
   ]
  },
  {
   "cell_type": "code",
   "execution_count": 45,
   "id": "c67a2be9",
   "metadata": {},
   "outputs": [],
   "source": [
    "# Modelo Lineal\n",
    "model1c = LinearRegression(n_jobs=4)\n",
    "\n",
    "# Modelo Random Forest\n",
    "model2c = RandomForestRegressor(n_estimators = 200, \n",
    "                               max_depth=10, min_samples_split= 50, min_samples_leaf=20,\n",
    "                               random_state = 33, criterion= 'squared_error', n_jobs=4)\n",
    "\n",
    "# Modelo MLPRegressor\n",
    "model3c = MLPRegressor(hidden_layer_sizes= (20,10,), activation='relu', solver='adam',\n",
    "                      learning_rate_init= 0.05, learning_rate='adaptive', max_iter=100,\n",
    "                      random_state=33)"
   ]
  },
  {
   "cell_type": "code",
   "execution_count": 46,
   "id": "6839a2f9",
   "metadata": {},
   "outputs": [
    {
     "data": {
      "text/plain": [
       "LinearRegression(n_jobs=4)"
      ]
     },
     "execution_count": 46,
     "metadata": {},
     "output_type": "execute_result"
    }
   ],
   "source": [
    "#Entrenamos el modelo lineal\n",
    "model1c.fit(X_train_red, y_train)\n"
   ]
  },
  {
   "cell_type": "code",
   "execution_count": 47,
   "id": "93eecf27",
   "metadata": {},
   "outputs": [
    {
     "name": "stdout",
     "output_type": "stream",
     "text": [
      "Linear Regression noDepDelay Validation Results: R^2: 0.024437 MSE: 3551.414223\n"
     ]
    }
   ],
   "source": [
    "y_pred_1c= model1c.predict(X_test_red)\n",
    "r2_m1c = model1c.score(X_test_red, y_test)\n",
    "mse1c = mean_squared_error(y_test, y_pred_1c)\n",
    "\n",
    "print('Linear Regression noDepDelay Validation Results: R^2:', round(r2_m1c,6), 'MSE:', round(mse1c,6) )"
   ]
  },
  {
   "cell_type": "markdown",
   "id": "dc189800",
   "metadata": {},
   "source": [
    "Claramente obtenemos peor resultado en las predicciones. Menor R^2 y mayor MSE"
   ]
  },
  {
   "cell_type": "code",
   "execution_count": null,
   "id": "8a784493",
   "metadata": {},
   "outputs": [],
   "source": []
  }
 ],
 "metadata": {
  "kernelspec": {
   "display_name": "Python 3 (ipykernel)",
   "language": "python",
   "name": "python3"
  },
  "language_info": {
   "codemirror_mode": {
    "name": "ipython",
    "version": 3
   },
   "file_extension": ".py",
   "mimetype": "text/x-python",
   "name": "python",
   "nbconvert_exporter": "python",
   "pygments_lexer": "ipython3",
   "version": "3.8.10"
  }
 },
 "nbformat": 4,
 "nbformat_minor": 5
}
