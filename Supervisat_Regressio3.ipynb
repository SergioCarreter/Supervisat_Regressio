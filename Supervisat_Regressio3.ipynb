{
 "cells": [
  {
   "cell_type": "code",
   "execution_count": 2,
   "id": "d5028bb9",
   "metadata": {},
   "outputs": [],
   "source": [
    "import pandas as pd\n",
    "import numpy as np\n",
    "\n",
    "import matplotlib.pyplot as plt\n",
    "import seaborn as sns\n",
    "\n",
    "from sklearn.model_selection import train_test_split\n",
    "from sklearn import preprocessing\n",
    "from sklearn.metrics import mean_squared_error\n",
    "\n",
    "from sklearn.preprocessing import PolynomialFeatures\n",
    "\n",
    "from sklearn.linear_model import LinearRegression\n",
    "from sklearn.linear_model import Ridge\n",
    "from sklearn.ensemble import RandomForestRegressor\n",
    "from sklearn.neural_network import MLPRegressor"
   ]
  },
  {
   "cell_type": "code",
   "execution_count": 3,
   "id": "5d50f2c2",
   "metadata": {},
   "outputs": [],
   "source": [
    "data_path_file='DelayedFlights.csv'\n",
    "df =pd.read_csv(data_path_file)"
   ]
  },
  {
   "cell_type": "code",
   "execution_count": 9,
   "id": "5dac6410",
   "metadata": {},
   "outputs": [
    {
     "data": {
      "text/plain": [
       "Index(['Unnamed: 0', 'Year', 'Month', 'DayofMonth', 'DayOfWeek', 'DepTime',\n",
       "       'CRSDepTime', 'ArrTime', 'CRSArrTime', 'UniqueCarrier', 'FlightNum',\n",
       "       'TailNum', 'ActualElapsedTime', 'CRSElapsedTime', 'AirTime', 'ArrDelay',\n",
       "       'DepDelay', 'Origin', 'Dest', 'Distance', 'TaxiIn', 'TaxiOut',\n",
       "       'Cancelled', 'CancellationCode', 'Diverted', 'CarrierDelay',\n",
       "       'WeatherDelay', 'NASDelay', 'SecurityDelay', 'LateAircraftDelay'],\n",
       "      dtype='object')"
      ]
     },
     "execution_count": 9,
     "metadata": {},
     "output_type": "execute_result"
    }
   ],
   "source": [
    "df.columns"
   ]
  },
  {
   "cell_type": "markdown",
   "id": "4dd30778",
   "metadata": {},
   "source": [
    "Centraremos el analisis en las caracteristicas de interés: features y lo guardaremos en el dataframe X"
   ]
  },
  {
   "cell_type": "code",
   "execution_count": 19,
   "id": "ce982f55",
   "metadata": {},
   "outputs": [],
   "source": [
    "feat0=[ 'Month', 'DayofMonth', 'DayOfWeek', 'DepTime','CRSDepTime', 'CRSArrTime', 'CRSElapsedTime','DepDelay', 'ArrDelay',\n",
    "       'Distance','TaxiIn', 'TaxiOut','CarrierDelay','WeatherDelay', 'NASDelay', 'SecurityDelay', 'LateAircraftDelay']"
   ]
  },
  {
   "cell_type": "code",
   "execution_count": 10,
   "id": "c7c4358c",
   "metadata": {},
   "outputs": [],
   "source": [
    "features=[ 'DayOfWeek', 'DepTime', 'CRSDepTime', 'ArrTime', 'CRSArrTime', 'ActualElapsedTime',\n",
    "          'CRSElapsedTime', 'AirTime', 'ArrDelay','DepDelay', 'Distance', 'Cancelled', 'Diverted', 'UniqueCarrier']"
   ]
  },
  {
   "cell_type": "code",
   "execution_count": 11,
   "id": "b6b6c819",
   "metadata": {},
   "outputs": [],
   "source": [
    "X= df[features]"
   ]
  },
  {
   "cell_type": "code",
   "execution_count": 12,
   "id": "f12fd58d",
   "metadata": {},
   "outputs": [
    {
     "data": {
      "text/html": [
       "<div>\n",
       "<style scoped>\n",
       "    .dataframe tbody tr th:only-of-type {\n",
       "        vertical-align: middle;\n",
       "    }\n",
       "\n",
       "    .dataframe tbody tr th {\n",
       "        vertical-align: top;\n",
       "    }\n",
       "\n",
       "    .dataframe thead th {\n",
       "        text-align: right;\n",
       "    }\n",
       "</style>\n",
       "<table border=\"1\" class=\"dataframe\">\n",
       "  <thead>\n",
       "    <tr style=\"text-align: right;\">\n",
       "      <th></th>\n",
       "      <th>DayOfWeek</th>\n",
       "      <th>DepTime</th>\n",
       "      <th>CRSDepTime</th>\n",
       "      <th>ArrTime</th>\n",
       "      <th>CRSArrTime</th>\n",
       "      <th>ActualElapsedTime</th>\n",
       "      <th>CRSElapsedTime</th>\n",
       "      <th>AirTime</th>\n",
       "      <th>ArrDelay</th>\n",
       "      <th>DepDelay</th>\n",
       "      <th>Distance</th>\n",
       "      <th>Cancelled</th>\n",
       "      <th>Diverted</th>\n",
       "    </tr>\n",
       "  </thead>\n",
       "  <tbody>\n",
       "    <tr>\n",
       "      <th>DayOfWeek</th>\n",
       "      <td>1.000000</td>\n",
       "      <td>0.021924</td>\n",
       "      <td>0.027039</td>\n",
       "      <td>0.010913</td>\n",
       "      <td>0.017750</td>\n",
       "      <td>0.003072</td>\n",
       "      <td>0.004954</td>\n",
       "      <td>0.004738</td>\n",
       "      <td>0.006123</td>\n",
       "      <td>0.008538</td>\n",
       "      <td>0.008138</td>\n",
       "      <td>0.000023</td>\n",
       "      <td>-0.001361</td>\n",
       "    </tr>\n",
       "    <tr>\n",
       "      <th>DepTime</th>\n",
       "      <td>0.021924</td>\n",
       "      <td>1.000000</td>\n",
       "      <td>0.881598</td>\n",
       "      <td>0.458934</td>\n",
       "      <td>0.711513</td>\n",
       "      <td>-0.047040</td>\n",
       "      <td>-0.044619</td>\n",
       "      <td>-0.054831</td>\n",
       "      <td>0.127017</td>\n",
       "      <td>0.139254</td>\n",
       "      <td>-0.056003</td>\n",
       "      <td>0.002280</td>\n",
       "      <td>-0.004632</td>\n",
       "    </tr>\n",
       "    <tr>\n",
       "      <th>CRSDepTime</th>\n",
       "      <td>0.027039</td>\n",
       "      <td>0.881598</td>\n",
       "      <td>1.000000</td>\n",
       "      <td>0.396724</td>\n",
       "      <td>0.710303</td>\n",
       "      <td>-0.034925</td>\n",
       "      <td>-0.026388</td>\n",
       "      <td>-0.036582</td>\n",
       "      <td>0.044447</td>\n",
       "      <td>0.058875</td>\n",
       "      <td>-0.029517</td>\n",
       "      <td>0.000023</td>\n",
       "      <td>-0.009096</td>\n",
       "    </tr>\n",
       "    <tr>\n",
       "      <th>ArrTime</th>\n",
       "      <td>0.010913</td>\n",
       "      <td>0.458934</td>\n",
       "      <td>0.396724</td>\n",
       "      <td>1.000000</td>\n",
       "      <td>0.619385</td>\n",
       "      <td>-0.013595</td>\n",
       "      <td>-0.012911</td>\n",
       "      <td>-0.017684</td>\n",
       "      <td>-0.050948</td>\n",
       "      <td>-0.053024</td>\n",
       "      <td>-0.027751</td>\n",
       "      <td>NaN</td>\n",
       "      <td>-0.007204</td>\n",
       "    </tr>\n",
       "    <tr>\n",
       "      <th>CRSArrTime</th>\n",
       "      <td>0.017750</td>\n",
       "      <td>0.711513</td>\n",
       "      <td>0.710303</td>\n",
       "      <td>0.619385</td>\n",
       "      <td>1.000000</td>\n",
       "      <td>0.033203</td>\n",
       "      <td>0.040117</td>\n",
       "      <td>0.025907</td>\n",
       "      <td>0.043078</td>\n",
       "      <td>0.053706</td>\n",
       "      <td>0.024335</td>\n",
       "      <td>0.000201</td>\n",
       "      <td>0.000907</td>\n",
       "    </tr>\n",
       "    <tr>\n",
       "      <th>ActualElapsedTime</th>\n",
       "      <td>0.003072</td>\n",
       "      <td>-0.047040</td>\n",
       "      <td>-0.034925</td>\n",
       "      <td>-0.013595</td>\n",
       "      <td>0.033203</td>\n",
       "      <td>1.000000</td>\n",
       "      <td>0.971122</td>\n",
       "      <td>0.976660</td>\n",
       "      <td>0.068130</td>\n",
       "      <td>0.018492</td>\n",
       "      <td>0.952980</td>\n",
       "      <td>NaN</td>\n",
       "      <td>NaN</td>\n",
       "    </tr>\n",
       "    <tr>\n",
       "      <th>CRSElapsedTime</th>\n",
       "      <td>0.004954</td>\n",
       "      <td>-0.044619</td>\n",
       "      <td>-0.026388</td>\n",
       "      <td>-0.012911</td>\n",
       "      <td>0.040117</td>\n",
       "      <td>0.971122</td>\n",
       "      <td>1.000000</td>\n",
       "      <td>0.986086</td>\n",
       "      <td>-0.015676</td>\n",
       "      <td>0.007001</td>\n",
       "      <td>0.981759</td>\n",
       "      <td>-0.003916</td>\n",
       "      <td>0.024660</td>\n",
       "    </tr>\n",
       "    <tr>\n",
       "      <th>AirTime</th>\n",
       "      <td>0.004738</td>\n",
       "      <td>-0.054831</td>\n",
       "      <td>-0.036582</td>\n",
       "      <td>-0.017684</td>\n",
       "      <td>0.025907</td>\n",
       "      <td>0.976660</td>\n",
       "      <td>0.986086</td>\n",
       "      <td>1.000000</td>\n",
       "      <td>-0.000189</td>\n",
       "      <td>-0.002753</td>\n",
       "      <td>0.980294</td>\n",
       "      <td>NaN</td>\n",
       "      <td>NaN</td>\n",
       "    </tr>\n",
       "    <tr>\n",
       "      <th>ArrDelay</th>\n",
       "      <td>0.006123</td>\n",
       "      <td>0.127017</td>\n",
       "      <td>0.044447</td>\n",
       "      <td>-0.050948</td>\n",
       "      <td>0.043078</td>\n",
       "      <td>0.068130</td>\n",
       "      <td>-0.015676</td>\n",
       "      <td>-0.000189</td>\n",
       "      <td>1.000000</td>\n",
       "      <td>0.952927</td>\n",
       "      <td>-0.029853</td>\n",
       "      <td>NaN</td>\n",
       "      <td>NaN</td>\n",
       "    </tr>\n",
       "    <tr>\n",
       "      <th>DepDelay</th>\n",
       "      <td>0.008538</td>\n",
       "      <td>0.139254</td>\n",
       "      <td>0.058875</td>\n",
       "      <td>-0.053024</td>\n",
       "      <td>0.053706</td>\n",
       "      <td>0.018492</td>\n",
       "      <td>0.007001</td>\n",
       "      <td>-0.002753</td>\n",
       "      <td>0.952927</td>\n",
       "      <td>1.000000</td>\n",
       "      <td>-0.007718</td>\n",
       "      <td>0.016542</td>\n",
       "      <td>0.022867</td>\n",
       "    </tr>\n",
       "    <tr>\n",
       "      <th>Distance</th>\n",
       "      <td>0.008138</td>\n",
       "      <td>-0.056003</td>\n",
       "      <td>-0.029517</td>\n",
       "      <td>-0.027751</td>\n",
       "      <td>0.024335</td>\n",
       "      <td>0.952980</td>\n",
       "      <td>0.981759</td>\n",
       "      <td>0.980294</td>\n",
       "      <td>-0.029853</td>\n",
       "      <td>-0.007718</td>\n",
       "      <td>1.000000</td>\n",
       "      <td>-0.005060</td>\n",
       "      <td>0.021692</td>\n",
       "    </tr>\n",
       "    <tr>\n",
       "      <th>Cancelled</th>\n",
       "      <td>0.000023</td>\n",
       "      <td>0.002280</td>\n",
       "      <td>0.000023</td>\n",
       "      <td>NaN</td>\n",
       "      <td>0.000201</td>\n",
       "      <td>NaN</td>\n",
       "      <td>-0.003916</td>\n",
       "      <td>NaN</td>\n",
       "      <td>NaN</td>\n",
       "      <td>0.016542</td>\n",
       "      <td>-0.005060</td>\n",
       "      <td>1.000000</td>\n",
       "      <td>-0.001146</td>\n",
       "    </tr>\n",
       "    <tr>\n",
       "      <th>Diverted</th>\n",
       "      <td>-0.001361</td>\n",
       "      <td>-0.004632</td>\n",
       "      <td>-0.009096</td>\n",
       "      <td>-0.007204</td>\n",
       "      <td>0.000907</td>\n",
       "      <td>NaN</td>\n",
       "      <td>0.024660</td>\n",
       "      <td>NaN</td>\n",
       "      <td>NaN</td>\n",
       "      <td>0.022867</td>\n",
       "      <td>0.021692</td>\n",
       "      <td>-0.001146</td>\n",
       "      <td>1.000000</td>\n",
       "    </tr>\n",
       "  </tbody>\n",
       "</table>\n",
       "</div>"
      ],
      "text/plain": [
       "                   DayOfWeek   DepTime  CRSDepTime   ArrTime  CRSArrTime  \\\n",
       "DayOfWeek           1.000000  0.021924    0.027039  0.010913    0.017750   \n",
       "DepTime             0.021924  1.000000    0.881598  0.458934    0.711513   \n",
       "CRSDepTime          0.027039  0.881598    1.000000  0.396724    0.710303   \n",
       "ArrTime             0.010913  0.458934    0.396724  1.000000    0.619385   \n",
       "CRSArrTime          0.017750  0.711513    0.710303  0.619385    1.000000   \n",
       "ActualElapsedTime   0.003072 -0.047040   -0.034925 -0.013595    0.033203   \n",
       "CRSElapsedTime      0.004954 -0.044619   -0.026388 -0.012911    0.040117   \n",
       "AirTime             0.004738 -0.054831   -0.036582 -0.017684    0.025907   \n",
       "ArrDelay            0.006123  0.127017    0.044447 -0.050948    0.043078   \n",
       "DepDelay            0.008538  0.139254    0.058875 -0.053024    0.053706   \n",
       "Distance            0.008138 -0.056003   -0.029517 -0.027751    0.024335   \n",
       "Cancelled           0.000023  0.002280    0.000023       NaN    0.000201   \n",
       "Diverted           -0.001361 -0.004632   -0.009096 -0.007204    0.000907   \n",
       "\n",
       "                   ActualElapsedTime  CRSElapsedTime   AirTime  ArrDelay  \\\n",
       "DayOfWeek                   0.003072        0.004954  0.004738  0.006123   \n",
       "DepTime                    -0.047040       -0.044619 -0.054831  0.127017   \n",
       "CRSDepTime                 -0.034925       -0.026388 -0.036582  0.044447   \n",
       "ArrTime                    -0.013595       -0.012911 -0.017684 -0.050948   \n",
       "CRSArrTime                  0.033203        0.040117  0.025907  0.043078   \n",
       "ActualElapsedTime           1.000000        0.971122  0.976660  0.068130   \n",
       "CRSElapsedTime              0.971122        1.000000  0.986086 -0.015676   \n",
       "AirTime                     0.976660        0.986086  1.000000 -0.000189   \n",
       "ArrDelay                    0.068130       -0.015676 -0.000189  1.000000   \n",
       "DepDelay                    0.018492        0.007001 -0.002753  0.952927   \n",
       "Distance                    0.952980        0.981759  0.980294 -0.029853   \n",
       "Cancelled                        NaN       -0.003916       NaN       NaN   \n",
       "Diverted                         NaN        0.024660       NaN       NaN   \n",
       "\n",
       "                   DepDelay  Distance  Cancelled  Diverted  \n",
       "DayOfWeek          0.008538  0.008138   0.000023 -0.001361  \n",
       "DepTime            0.139254 -0.056003   0.002280 -0.004632  \n",
       "CRSDepTime         0.058875 -0.029517   0.000023 -0.009096  \n",
       "ArrTime           -0.053024 -0.027751        NaN -0.007204  \n",
       "CRSArrTime         0.053706  0.024335   0.000201  0.000907  \n",
       "ActualElapsedTime  0.018492  0.952980        NaN       NaN  \n",
       "CRSElapsedTime     0.007001  0.981759  -0.003916  0.024660  \n",
       "AirTime           -0.002753  0.980294        NaN       NaN  \n",
       "ArrDelay           0.952927 -0.029853        NaN       NaN  \n",
       "DepDelay           1.000000 -0.007718   0.016542  0.022867  \n",
       "Distance          -0.007718  1.000000  -0.005060  0.021692  \n",
       "Cancelled          0.016542 -0.005060   1.000000 -0.001146  \n",
       "Diverted           0.022867  0.021692  -0.001146  1.000000  "
      ]
     },
     "execution_count": 12,
     "metadata": {},
     "output_type": "execute_result"
    }
   ],
   "source": [
    "X.corr()"
   ]
  },
  {
   "cell_type": "code",
   "execution_count": 20,
   "id": "cbf89dd0",
   "metadata": {},
   "outputs": [],
   "source": [
    "X0=df[feat0]"
   ]
  },
  {
   "cell_type": "code",
   "execution_count": 21,
   "id": "e9861f76",
   "metadata": {},
   "outputs": [
    {
     "data": {
      "text/plain": [
       "(1936758, 17)"
      ]
     },
     "execution_count": 21,
     "metadata": {},
     "output_type": "execute_result"
    }
   ],
   "source": [
    "X0.shape"
   ]
  },
  {
   "cell_type": "code",
   "execution_count": 22,
   "id": "d58c193a",
   "metadata": {},
   "outputs": [
    {
     "data": {
      "text/html": [
       "<div>\n",
       "<style scoped>\n",
       "    .dataframe tbody tr th:only-of-type {\n",
       "        vertical-align: middle;\n",
       "    }\n",
       "\n",
       "    .dataframe tbody tr th {\n",
       "        vertical-align: top;\n",
       "    }\n",
       "\n",
       "    .dataframe thead th {\n",
       "        text-align: right;\n",
       "    }\n",
       "</style>\n",
       "<table border=\"1\" class=\"dataframe\">\n",
       "  <thead>\n",
       "    <tr style=\"text-align: right;\">\n",
       "      <th></th>\n",
       "      <th>Month</th>\n",
       "      <th>DayofMonth</th>\n",
       "      <th>DayOfWeek</th>\n",
       "      <th>DepTime</th>\n",
       "      <th>CRSDepTime</th>\n",
       "      <th>CRSArrTime</th>\n",
       "      <th>CRSElapsedTime</th>\n",
       "      <th>DepDelay</th>\n",
       "      <th>ArrDelay</th>\n",
       "      <th>Distance</th>\n",
       "      <th>TaxiIn</th>\n",
       "      <th>TaxiOut</th>\n",
       "      <th>CarrierDelay</th>\n",
       "      <th>WeatherDelay</th>\n",
       "      <th>NASDelay</th>\n",
       "      <th>SecurityDelay</th>\n",
       "      <th>LateAircraftDelay</th>\n",
       "    </tr>\n",
       "  </thead>\n",
       "  <tbody>\n",
       "    <tr>\n",
       "      <th>Month</th>\n",
       "      <td>1.000000</td>\n",
       "      <td>0.059651</td>\n",
       "      <td>0.000088</td>\n",
       "      <td>-0.007809</td>\n",
       "      <td>-0.011367</td>\n",
       "      <td>0.001367</td>\n",
       "      <td>0.007046</td>\n",
       "      <td>0.004769</td>\n",
       "      <td>-0.000897</td>\n",
       "      <td>0.005498</td>\n",
       "      <td>0.019705</td>\n",
       "      <td>0.002574</td>\n",
       "      <td>0.000420</td>\n",
       "      <td>0.006611</td>\n",
       "      <td>0.011441</td>\n",
       "      <td>-0.003066</td>\n",
       "      <td>0.004953</td>\n",
       "    </tr>\n",
       "    <tr>\n",
       "      <th>DayofMonth</th>\n",
       "      <td>0.059651</td>\n",
       "      <td>1.000000</td>\n",
       "      <td>0.017476</td>\n",
       "      <td>0.001014</td>\n",
       "      <td>0.001019</td>\n",
       "      <td>0.000758</td>\n",
       "      <td>-0.000028</td>\n",
       "      <td>0.005289</td>\n",
       "      <td>0.004129</td>\n",
       "      <td>0.000117</td>\n",
       "      <td>-0.002926</td>\n",
       "      <td>-0.002201</td>\n",
       "      <td>-0.000947</td>\n",
       "      <td>0.000916</td>\n",
       "      <td>0.005644</td>\n",
       "      <td>-0.000308</td>\n",
       "      <td>0.009100</td>\n",
       "    </tr>\n",
       "    <tr>\n",
       "      <th>DayOfWeek</th>\n",
       "      <td>0.000088</td>\n",
       "      <td>0.017476</td>\n",
       "      <td>1.000000</td>\n",
       "      <td>0.021924</td>\n",
       "      <td>0.027039</td>\n",
       "      <td>0.017750</td>\n",
       "      <td>0.004954</td>\n",
       "      <td>0.008538</td>\n",
       "      <td>0.006123</td>\n",
       "      <td>0.008138</td>\n",
       "      <td>0.008516</td>\n",
       "      <td>-0.010302</td>\n",
       "      <td>0.010215</td>\n",
       "      <td>0.005654</td>\n",
       "      <td>-0.006628</td>\n",
       "      <td>0.004665</td>\n",
       "      <td>0.008839</td>\n",
       "    </tr>\n",
       "    <tr>\n",
       "      <th>DepTime</th>\n",
       "      <td>-0.007809</td>\n",
       "      <td>0.001014</td>\n",
       "      <td>0.021924</td>\n",
       "      <td>1.000000</td>\n",
       "      <td>0.881598</td>\n",
       "      <td>0.711513</td>\n",
       "      <td>-0.044619</td>\n",
       "      <td>0.139254</td>\n",
       "      <td>0.127017</td>\n",
       "      <td>-0.056003</td>\n",
       "      <td>-0.012023</td>\n",
       "      <td>0.030481</td>\n",
       "      <td>-0.051948</td>\n",
       "      <td>0.005307</td>\n",
       "      <td>0.022530</td>\n",
       "      <td>-0.015273</td>\n",
       "      <td>0.169453</td>\n",
       "    </tr>\n",
       "    <tr>\n",
       "      <th>CRSDepTime</th>\n",
       "      <td>-0.011367</td>\n",
       "      <td>0.001019</td>\n",
       "      <td>0.027039</td>\n",
       "      <td>0.881598</td>\n",
       "      <td>1.000000</td>\n",
       "      <td>0.710303</td>\n",
       "      <td>-0.026388</td>\n",
       "      <td>0.058875</td>\n",
       "      <td>0.044447</td>\n",
       "      <td>-0.029517</td>\n",
       "      <td>-0.032379</td>\n",
       "      <td>0.011408</td>\n",
       "      <td>-0.107337</td>\n",
       "      <td>-0.009338</td>\n",
       "      <td>-0.032701</td>\n",
       "      <td>-0.017064</td>\n",
       "      <td>0.167734</td>\n",
       "    </tr>\n",
       "    <tr>\n",
       "      <th>CRSArrTime</th>\n",
       "      <td>0.001367</td>\n",
       "      <td>0.000758</td>\n",
       "      <td>0.017750</td>\n",
       "      <td>0.711513</td>\n",
       "      <td>0.710303</td>\n",
       "      <td>1.000000</td>\n",
       "      <td>0.040117</td>\n",
       "      <td>0.053706</td>\n",
       "      <td>0.043078</td>\n",
       "      <td>0.024335</td>\n",
       "      <td>0.013819</td>\n",
       "      <td>0.037942</td>\n",
       "      <td>-0.096156</td>\n",
       "      <td>-0.005033</td>\n",
       "      <td>0.009227</td>\n",
       "      <td>-0.013349</td>\n",
       "      <td>0.131467</td>\n",
       "    </tr>\n",
       "    <tr>\n",
       "      <th>CRSElapsedTime</th>\n",
       "      <td>0.007046</td>\n",
       "      <td>-0.000028</td>\n",
       "      <td>0.004954</td>\n",
       "      <td>-0.044619</td>\n",
       "      <td>-0.026388</td>\n",
       "      <td>0.040117</td>\n",
       "      <td>1.000000</td>\n",
       "      <td>0.007001</td>\n",
       "      <td>-0.015676</td>\n",
       "      <td>0.981759</td>\n",
       "      <td>0.099646</td>\n",
       "      <td>0.123839</td>\n",
       "      <td>0.026586</td>\n",
       "      <td>-0.016478</td>\n",
       "      <td>0.046964</td>\n",
       "      <td>0.006104</td>\n",
       "      <td>-0.011584</td>\n",
       "    </tr>\n",
       "    <tr>\n",
       "      <th>DepDelay</th>\n",
       "      <td>0.004769</td>\n",
       "      <td>0.005289</td>\n",
       "      <td>0.008538</td>\n",
       "      <td>0.139254</td>\n",
       "      <td>0.058875</td>\n",
       "      <td>0.053706</td>\n",
       "      <td>0.007001</td>\n",
       "      <td>1.000000</td>\n",
       "      <td>0.952927</td>\n",
       "      <td>-0.007718</td>\n",
       "      <td>0.074748</td>\n",
       "      <td>0.078676</td>\n",
       "      <td>0.528038</td>\n",
       "      <td>0.244488</td>\n",
       "      <td>0.233976</td>\n",
       "      <td>-0.002343</td>\n",
       "      <td>0.513041</td>\n",
       "    </tr>\n",
       "    <tr>\n",
       "      <th>ArrDelay</th>\n",
       "      <td>-0.000897</td>\n",
       "      <td>0.004129</td>\n",
       "      <td>0.006123</td>\n",
       "      <td>0.127017</td>\n",
       "      <td>0.044447</td>\n",
       "      <td>0.043078</td>\n",
       "      <td>-0.015676</td>\n",
       "      <td>0.952927</td>\n",
       "      <td>1.000000</td>\n",
       "      <td>-0.029853</td>\n",
       "      <td>0.156277</td>\n",
       "      <td>0.286484</td>\n",
       "      <td>0.501773</td>\n",
       "      <td>0.264624</td>\n",
       "      <td>0.387606</td>\n",
       "      <td>-0.002488</td>\n",
       "      <td>0.478123</td>\n",
       "    </tr>\n",
       "    <tr>\n",
       "      <th>Distance</th>\n",
       "      <td>0.005498</td>\n",
       "      <td>0.000117</td>\n",
       "      <td>0.008138</td>\n",
       "      <td>-0.056003</td>\n",
       "      <td>-0.029517</td>\n",
       "      <td>0.024335</td>\n",
       "      <td>0.981759</td>\n",
       "      <td>-0.007718</td>\n",
       "      <td>-0.029853</td>\n",
       "      <td>1.000000</td>\n",
       "      <td>0.072284</td>\n",
       "      <td>0.070298</td>\n",
       "      <td>0.028443</td>\n",
       "      <td>-0.023819</td>\n",
       "      <td>0.018109</td>\n",
       "      <td>0.007029</td>\n",
       "      <td>-0.010578</td>\n",
       "    </tr>\n",
       "    <tr>\n",
       "      <th>TaxiIn</th>\n",
       "      <td>0.019705</td>\n",
       "      <td>-0.002926</td>\n",
       "      <td>0.008516</td>\n",
       "      <td>-0.012023</td>\n",
       "      <td>-0.032379</td>\n",
       "      <td>0.013819</td>\n",
       "      <td>0.099646</td>\n",
       "      <td>0.074748</td>\n",
       "      <td>0.156277</td>\n",
       "      <td>0.072284</td>\n",
       "      <td>1.000000</td>\n",
       "      <td>0.066936</td>\n",
       "      <td>-0.021982</td>\n",
       "      <td>0.025661</td>\n",
       "      <td>0.229828</td>\n",
       "      <td>-0.004905</td>\n",
       "      <td>-0.006983</td>\n",
       "    </tr>\n",
       "    <tr>\n",
       "      <th>TaxiOut</th>\n",
       "      <td>0.002574</td>\n",
       "      <td>-0.002201</td>\n",
       "      <td>-0.010302</td>\n",
       "      <td>0.030481</td>\n",
       "      <td>0.011408</td>\n",
       "      <td>0.037942</td>\n",
       "      <td>0.123839</td>\n",
       "      <td>0.078676</td>\n",
       "      <td>0.286484</td>\n",
       "      <td>0.070298</td>\n",
       "      <td>0.066936</td>\n",
       "      <td>1.000000</td>\n",
       "      <td>-0.028763</td>\n",
       "      <td>0.083243</td>\n",
       "      <td>0.427987</td>\n",
       "      <td>-0.002681</td>\n",
       "      <td>-0.055821</td>\n",
       "    </tr>\n",
       "    <tr>\n",
       "      <th>CarrierDelay</th>\n",
       "      <td>0.000420</td>\n",
       "      <td>-0.000947</td>\n",
       "      <td>0.010215</td>\n",
       "      <td>-0.051948</td>\n",
       "      <td>-0.107337</td>\n",
       "      <td>-0.096156</td>\n",
       "      <td>0.026586</td>\n",
       "      <td>0.528038</td>\n",
       "      <td>0.501773</td>\n",
       "      <td>0.028443</td>\n",
       "      <td>-0.021982</td>\n",
       "      <td>-0.028763</td>\n",
       "      <td>1.000000</td>\n",
       "      <td>-0.068951</td>\n",
       "      <td>-0.119534</td>\n",
       "      <td>-0.018537</td>\n",
       "      <td>-0.178286</td>\n",
       "    </tr>\n",
       "    <tr>\n",
       "      <th>WeatherDelay</th>\n",
       "      <td>0.006611</td>\n",
       "      <td>0.000916</td>\n",
       "      <td>0.005654</td>\n",
       "      <td>0.005307</td>\n",
       "      <td>-0.009338</td>\n",
       "      <td>-0.005033</td>\n",
       "      <td>-0.016478</td>\n",
       "      <td>0.244488</td>\n",
       "      <td>0.264624</td>\n",
       "      <td>-0.023819</td>\n",
       "      <td>0.025661</td>\n",
       "      <td>0.083243</td>\n",
       "      <td>-0.068951</td>\n",
       "      <td>1.000000</td>\n",
       "      <td>-0.002553</td>\n",
       "      <td>-0.007511</td>\n",
       "      <td>-0.054971</td>\n",
       "    </tr>\n",
       "    <tr>\n",
       "      <th>NASDelay</th>\n",
       "      <td>0.011441</td>\n",
       "      <td>0.005644</td>\n",
       "      <td>-0.006628</td>\n",
       "      <td>0.022530</td>\n",
       "      <td>-0.032701</td>\n",
       "      <td>0.009227</td>\n",
       "      <td>0.046964</td>\n",
       "      <td>0.233976</td>\n",
       "      <td>0.387606</td>\n",
       "      <td>0.018109</td>\n",
       "      <td>0.229828</td>\n",
       "      <td>0.427987</td>\n",
       "      <td>-0.119534</td>\n",
       "      <td>-0.002553</td>\n",
       "      <td>1.000000</td>\n",
       "      <td>-0.011723</td>\n",
       "      <td>-0.118905</td>\n",
       "    </tr>\n",
       "    <tr>\n",
       "      <th>SecurityDelay</th>\n",
       "      <td>-0.003066</td>\n",
       "      <td>-0.000308</td>\n",
       "      <td>0.004665</td>\n",
       "      <td>-0.015273</td>\n",
       "      <td>-0.017064</td>\n",
       "      <td>-0.013349</td>\n",
       "      <td>0.006104</td>\n",
       "      <td>-0.002343</td>\n",
       "      <td>-0.002488</td>\n",
       "      <td>0.007029</td>\n",
       "      <td>-0.004905</td>\n",
       "      <td>-0.002681</td>\n",
       "      <td>-0.018537</td>\n",
       "      <td>-0.007511</td>\n",
       "      <td>-0.011723</td>\n",
       "      <td>1.000000</td>\n",
       "      <td>-0.019227</td>\n",
       "    </tr>\n",
       "    <tr>\n",
       "      <th>LateAircraftDelay</th>\n",
       "      <td>0.004953</td>\n",
       "      <td>0.009100</td>\n",
       "      <td>0.008839</td>\n",
       "      <td>0.169453</td>\n",
       "      <td>0.167734</td>\n",
       "      <td>0.131467</td>\n",
       "      <td>-0.011584</td>\n",
       "      <td>0.513041</td>\n",
       "      <td>0.478123</td>\n",
       "      <td>-0.010578</td>\n",
       "      <td>-0.006983</td>\n",
       "      <td>-0.055821</td>\n",
       "      <td>-0.178286</td>\n",
       "      <td>-0.054971</td>\n",
       "      <td>-0.118905</td>\n",
       "      <td>-0.019227</td>\n",
       "      <td>1.000000</td>\n",
       "    </tr>\n",
       "  </tbody>\n",
       "</table>\n",
       "</div>"
      ],
      "text/plain": [
       "                      Month  DayofMonth  DayOfWeek   DepTime  CRSDepTime  \\\n",
       "Month              1.000000    0.059651   0.000088 -0.007809   -0.011367   \n",
       "DayofMonth         0.059651    1.000000   0.017476  0.001014    0.001019   \n",
       "DayOfWeek          0.000088    0.017476   1.000000  0.021924    0.027039   \n",
       "DepTime           -0.007809    0.001014   0.021924  1.000000    0.881598   \n",
       "CRSDepTime        -0.011367    0.001019   0.027039  0.881598    1.000000   \n",
       "CRSArrTime         0.001367    0.000758   0.017750  0.711513    0.710303   \n",
       "CRSElapsedTime     0.007046   -0.000028   0.004954 -0.044619   -0.026388   \n",
       "DepDelay           0.004769    0.005289   0.008538  0.139254    0.058875   \n",
       "ArrDelay          -0.000897    0.004129   0.006123  0.127017    0.044447   \n",
       "Distance           0.005498    0.000117   0.008138 -0.056003   -0.029517   \n",
       "TaxiIn             0.019705   -0.002926   0.008516 -0.012023   -0.032379   \n",
       "TaxiOut            0.002574   -0.002201  -0.010302  0.030481    0.011408   \n",
       "CarrierDelay       0.000420   -0.000947   0.010215 -0.051948   -0.107337   \n",
       "WeatherDelay       0.006611    0.000916   0.005654  0.005307   -0.009338   \n",
       "NASDelay           0.011441    0.005644  -0.006628  0.022530   -0.032701   \n",
       "SecurityDelay     -0.003066   -0.000308   0.004665 -0.015273   -0.017064   \n",
       "LateAircraftDelay  0.004953    0.009100   0.008839  0.169453    0.167734   \n",
       "\n",
       "                   CRSArrTime  CRSElapsedTime  DepDelay  ArrDelay  Distance  \\\n",
       "Month                0.001367        0.007046  0.004769 -0.000897  0.005498   \n",
       "DayofMonth           0.000758       -0.000028  0.005289  0.004129  0.000117   \n",
       "DayOfWeek            0.017750        0.004954  0.008538  0.006123  0.008138   \n",
       "DepTime              0.711513       -0.044619  0.139254  0.127017 -0.056003   \n",
       "CRSDepTime           0.710303       -0.026388  0.058875  0.044447 -0.029517   \n",
       "CRSArrTime           1.000000        0.040117  0.053706  0.043078  0.024335   \n",
       "CRSElapsedTime       0.040117        1.000000  0.007001 -0.015676  0.981759   \n",
       "DepDelay             0.053706        0.007001  1.000000  0.952927 -0.007718   \n",
       "ArrDelay             0.043078       -0.015676  0.952927  1.000000 -0.029853   \n",
       "Distance             0.024335        0.981759 -0.007718 -0.029853  1.000000   \n",
       "TaxiIn               0.013819        0.099646  0.074748  0.156277  0.072284   \n",
       "TaxiOut              0.037942        0.123839  0.078676  0.286484  0.070298   \n",
       "CarrierDelay        -0.096156        0.026586  0.528038  0.501773  0.028443   \n",
       "WeatherDelay        -0.005033       -0.016478  0.244488  0.264624 -0.023819   \n",
       "NASDelay             0.009227        0.046964  0.233976  0.387606  0.018109   \n",
       "SecurityDelay       -0.013349        0.006104 -0.002343 -0.002488  0.007029   \n",
       "LateAircraftDelay    0.131467       -0.011584  0.513041  0.478123 -0.010578   \n",
       "\n",
       "                     TaxiIn   TaxiOut  CarrierDelay  WeatherDelay  NASDelay  \\\n",
       "Month              0.019705  0.002574      0.000420      0.006611  0.011441   \n",
       "DayofMonth        -0.002926 -0.002201     -0.000947      0.000916  0.005644   \n",
       "DayOfWeek          0.008516 -0.010302      0.010215      0.005654 -0.006628   \n",
       "DepTime           -0.012023  0.030481     -0.051948      0.005307  0.022530   \n",
       "CRSDepTime        -0.032379  0.011408     -0.107337     -0.009338 -0.032701   \n",
       "CRSArrTime         0.013819  0.037942     -0.096156     -0.005033  0.009227   \n",
       "CRSElapsedTime     0.099646  0.123839      0.026586     -0.016478  0.046964   \n",
       "DepDelay           0.074748  0.078676      0.528038      0.244488  0.233976   \n",
       "ArrDelay           0.156277  0.286484      0.501773      0.264624  0.387606   \n",
       "Distance           0.072284  0.070298      0.028443     -0.023819  0.018109   \n",
       "TaxiIn             1.000000  0.066936     -0.021982      0.025661  0.229828   \n",
       "TaxiOut            0.066936  1.000000     -0.028763      0.083243  0.427987   \n",
       "CarrierDelay      -0.021982 -0.028763      1.000000     -0.068951 -0.119534   \n",
       "WeatherDelay       0.025661  0.083243     -0.068951      1.000000 -0.002553   \n",
       "NASDelay           0.229828  0.427987     -0.119534     -0.002553  1.000000   \n",
       "SecurityDelay     -0.004905 -0.002681     -0.018537     -0.007511 -0.011723   \n",
       "LateAircraftDelay -0.006983 -0.055821     -0.178286     -0.054971 -0.118905   \n",
       "\n",
       "                   SecurityDelay  LateAircraftDelay  \n",
       "Month                  -0.003066           0.004953  \n",
       "DayofMonth             -0.000308           0.009100  \n",
       "DayOfWeek               0.004665           0.008839  \n",
       "DepTime                -0.015273           0.169453  \n",
       "CRSDepTime             -0.017064           0.167734  \n",
       "CRSArrTime             -0.013349           0.131467  \n",
       "CRSElapsedTime          0.006104          -0.011584  \n",
       "DepDelay               -0.002343           0.513041  \n",
       "ArrDelay               -0.002488           0.478123  \n",
       "Distance                0.007029          -0.010578  \n",
       "TaxiIn                 -0.004905          -0.006983  \n",
       "TaxiOut                -0.002681          -0.055821  \n",
       "CarrierDelay           -0.018537          -0.178286  \n",
       "WeatherDelay           -0.007511          -0.054971  \n",
       "NASDelay               -0.011723          -0.118905  \n",
       "SecurityDelay           1.000000          -0.019227  \n",
       "LateAircraftDelay      -0.019227           1.000000  "
      ]
     },
     "execution_count": 22,
     "metadata": {},
     "output_type": "execute_result"
    }
   ],
   "source": [
    "X0.corr()"
   ]
  },
  {
   "cell_type": "code",
   "execution_count": 13,
   "id": "2da0a3d2",
   "metadata": {},
   "outputs": [
    {
     "data": {
      "text/plain": [
       "(1936758, 14)"
      ]
     },
     "execution_count": 13,
     "metadata": {},
     "output_type": "execute_result"
    }
   ],
   "source": [
    "X.shape"
   ]
  },
  {
   "cell_type": "markdown",
   "id": "ef7a4d4b",
   "metadata": {},
   "source": [
    "Dado:\n",
    "\n",
    "* la variablidad en los retrasos por compañias \n",
    "* el gran numero de datos disponibles\n",
    "* Incluir la variable categorica 'UniqueCarrier' con 20 valores diferentes con un One-Hot Encoding seria ineficiente.\n",
    "\n",
    "Escogeremos una compañia para realizar nuestro modelo.\n",
    "\n",
    "Escogemos US Airways 'US' lo cual constituye aproximadamente el 5% de los vuelos."
   ]
  },
  {
   "cell_type": "code",
   "execution_count": 6,
   "id": "41b87279",
   "metadata": {},
   "outputs": [],
   "source": [
    "X = X[ X['UniqueCarrier'] == 'US' ]"
   ]
  },
  {
   "cell_type": "code",
   "execution_count": 7,
   "id": "495b2dd2",
   "metadata": {},
   "outputs": [
    {
     "data": {
      "text/plain": [
       "(98425, 14)"
      ]
     },
     "execution_count": 7,
     "metadata": {},
     "output_type": "execute_result"
    }
   ],
   "source": [
    "X.shape"
   ]
  },
  {
   "cell_type": "markdown",
   "id": "ed88139e",
   "metadata": {},
   "source": [
    "Supongamos que **queremos entrenar un modelo que sea capaz de estimar la caracteristica 'ArrDelay' una vez el vuelo ya ha salido pero obviamente aun no ha llegado**. \n",
    "\n",
    "Para ello 'Arrdelay' no ha de tener faltantes. tratandose de un numero relativamente bajo descartaremos las filas con 'ArrDelay' faltantes para toda la matriz de caracteristicas X"
   ]
  },
  {
   "cell_type": "code",
   "execution_count": 8,
   "id": "75ff2881",
   "metadata": {},
   "outputs": [],
   "source": [
    "nodelay = ~(X['ArrDelay'].isnull())\n",
    "X= X[nodelay]"
   ]
  },
  {
   "cell_type": "code",
   "execution_count": 9,
   "id": "61107930",
   "metadata": {},
   "outputs": [
    {
     "data": {
      "text/plain": [
       "(98007, 14)"
      ]
     },
     "execution_count": 9,
     "metadata": {},
     "output_type": "execute_result"
    }
   ],
   "source": [
    "X.shape"
   ]
  },
  {
   "cell_type": "markdown",
   "id": "fb6f0349",
   "metadata": {},
   "source": [
    "Guardamos en la variable y la caracteristica 'ArrDelay' y la eliminaremos de la matriz de caracteristicas X"
   ]
  },
  {
   "cell_type": "code",
   "execution_count": 10,
   "id": "41b36403",
   "metadata": {},
   "outputs": [],
   "source": [
    "y= X.ArrDelay\n",
    "X.drop( columns='ArrDelay', inplace= True )"
   ]
  },
  {
   "cell_type": "code",
   "execution_count": 11,
   "id": "db4d8772",
   "metadata": {},
   "outputs": [
    {
     "data": {
      "text/plain": [
       "(98007, 13)"
      ]
     },
     "execution_count": 11,
     "metadata": {},
     "output_type": "execute_result"
    }
   ],
   "source": [
    "X.shape"
   ]
  },
  {
   "cell_type": "markdown",
   "id": "eb5ad223",
   "metadata": {},
   "source": [
    "Por tanto las caracteristicas de la matrix X seran las contenidas en la lista feat_X. Por ser nulas Cancelled y Diverted se eliminan tambien. **Como el vuelo no ha llegado en el momento de estimar su retraso, no dispondremos de 'ArrTime', 'ActualElapsedTime' ni 'Airtime'**"
   ]
  },
  {
   "cell_type": "code",
   "execution_count": 12,
   "id": "8a69b49e",
   "metadata": {},
   "outputs": [],
   "source": [
    "feat_X=[ 'DayOfWeek', 'DepTime', 'CRSDepTime', 'CRSArrTime',\n",
    "          'CRSElapsedTime','DepDelay', 'Distance']"
   ]
  },
  {
   "cell_type": "code",
   "execution_count": 13,
   "id": "aafa911c",
   "metadata": {},
   "outputs": [],
   "source": [
    "X= X[feat_X]"
   ]
  },
  {
   "cell_type": "code",
   "execution_count": 14,
   "id": "6537f5eb",
   "metadata": {},
   "outputs": [
    {
     "data": {
      "text/plain": [
       "(98007, 7)"
      ]
     },
     "execution_count": 14,
     "metadata": {},
     "output_type": "execute_result"
    }
   ],
   "source": [
    "X.shape"
   ]
  },
  {
   "cell_type": "markdown",
   "id": "4a4b7507",
   "metadata": {},
   "source": [
    "Para los modelos Lineales y RandomForest no es necesario standardizar los datos. No obstante **para el modelo MLPRegressor si es necesario para mejorar la convergencia.** Asi pues **standardizaremos los datos de la matriz X**\n",
    "\n",
    "Como se standardiza en base a los datos de train como paso previo separamos con train_test_split()"
   ]
  },
  {
   "cell_type": "code",
   "execution_count": 15,
   "id": "d519eee1",
   "metadata": {},
   "outputs": [
    {
     "name": "stdout",
     "output_type": "stream",
     "text": [
      "(78405, 7) (19602, 7) (78405,) (19602,)\n"
     ]
    }
   ],
   "source": [
    "# Dividimos los datos (X,y) en training y test (X_train, X_test, y_train, y_test)\n",
    "\n",
    "X_train, X_test, y_train, y_test = train_test_split(X, y, train_size=0.8, test_size=0.2, random_state=33)\n",
    "print(X_train.shape, X_test.shape, y_train.shape, y_test.shape)"
   ]
  },
  {
   "cell_type": "markdown",
   "id": "8bb90852",
   "metadata": {},
   "source": [
    "Standardizamos ambos dataframes: X_train, X_test"
   ]
  },
  {
   "cell_type": "code",
   "execution_count": 16,
   "id": "896439fd",
   "metadata": {},
   "outputs": [],
   "source": [
    "# Instancia del scaler\n",
    "scaler = preprocessing.StandardScaler()"
   ]
  },
  {
   "cell_type": "code",
   "execution_count": 17,
   "id": "5caa1985",
   "metadata": {},
   "outputs": [],
   "source": [
    "# Fit to TRAIN data. Then transform it.\n",
    "M_train = scaler.fit_transform(X_train)\n",
    "#Volvemos a meter la matriz en dataframe\n",
    "X_train = pd.DataFrame(M_train, columns= feat_X )\n",
    "\n",
    "# Transform TEST data \n",
    "M_test = scaler.transform(X_test)\n",
    "#Volvemos a meter la matriz en dataframe\n",
    "X_test= pd.DataFrame(M_test, columns= feat_X )"
   ]
  },
  {
   "cell_type": "code",
   "execution_count": 18,
   "id": "65ae165f",
   "metadata": {},
   "outputs": [
    {
     "name": "stdout",
     "output_type": "stream",
     "text": [
      "(78405, 7) (19602, 7)\n"
     ]
    }
   ],
   "source": [
    "print(X_train.shape, X_test.shape)"
   ]
  },
  {
   "cell_type": "markdown",
   "id": "9e2dc4b4",
   "metadata": {},
   "source": [
    "--------------------------\n",
    "## Ejercicio 1\n",
    "\n",
    "\n",
    "Crea almenos 3 modelos de Regresion diferentes para intentar predecir el retraso de los vuelos 'ArrDelay'\n",
    "\n",
    "-------------------------\n"
   ]
  },
  {
   "cell_type": "markdown",
   "id": "b1b3324d",
   "metadata": {},
   "source": [
    "Usaremos los siguientes modelos:\n",
    "\n",
    "* Modelo Lineal\n",
    "* Random Forest\n",
    "* MLP Regressor\n",
    "\n",
    "Generaremos instancias de los modelos, los entrenaremos y realizaremos las predicciones para todos ellos con los parametros por defecto."
   ]
  },
  {
   "cell_type": "code",
   "execution_count": 19,
   "id": "aaea2741",
   "metadata": {},
   "outputs": [],
   "source": [
    "# Modelo Lineal\n",
    "linear_1 = LinearRegression()\n",
    "\n",
    "#Entrenamos el modelo lineal\n",
    "linear_1.fit(X_train, y_train)\n",
    "\n",
    "#Predecimos a partir de los datos de test\n",
    "y_pred_lin1= linear_1.predict(X_test)"
   ]
  },
  {
   "cell_type": "code",
   "execution_count": 20,
   "id": "da7ff406",
   "metadata": {},
   "outputs": [],
   "source": [
    "# Modelo Random Forest\n",
    "forest_1 = RandomForestRegressor()\n",
    "\n",
    "#Entrenamos el Forest Regressor\n",
    "forest_1.fit(X_train, y_train)\n",
    "\n",
    "#Predecimos a partir de los datos de test\n",
    "y_pred_for1 = forest_1.predict(X_test)"
   ]
  },
  {
   "cell_type": "code",
   "execution_count": 21,
   "id": "8ffa17ed",
   "metadata": {},
   "outputs": [],
   "source": [
    "# Modelo MLPRegressor\n",
    "mlp_1 = MLPRegressor()\n",
    "\n",
    "#Entrenamos el MLP Regressor\n",
    "mlp_1.fit(X_train, y_train)\n",
    "\n",
    "#Predecimos a partir de los datos de test\n",
    "y_pred_mlp1 = mlp_1.predict(X_test)"
   ]
  },
  {
   "cell_type": "markdown",
   "id": "ca7bcaff",
   "metadata": {},
   "source": [
    "--------------------------\n",
    "## Ejercicio 2\n",
    "\n",
    "Compara los modelos segun el MSE y el R2.\n",
    "\n",
    "--------------------------"
   ]
  },
  {
   "cell_type": "markdown",
   "id": "0ece6e1c",
   "metadata": {},
   "source": [
    "Evaluaremos la calidad del modelo con los datos de test"
   ]
  },
  {
   "cell_type": "code",
   "execution_count": 22,
   "id": "21c085a7",
   "metadata": {},
   "outputs": [],
   "source": [
    "r2_lin1 = linear_1.score(X_test, y_test)\n",
    "mse_lin1 = mean_squared_error(y_test, y_pred_lin1)\n",
    "\n",
    "r2_for1 = forest_1.score(X_test, y_test)\n",
    "mse_for1 = mean_squared_error(y_test, y_pred_for1)\n",
    "\n",
    "r2_mlp1= mlp_1.score(X_test, y_test)\n",
    "mse_mlp1 = mean_squared_error(y_test, y_pred_mlp1)"
   ]
  },
  {
   "cell_type": "code",
   "execution_count": 23,
   "id": "e72d5056",
   "metadata": {},
   "outputs": [
    {
     "name": "stdout",
     "output_type": "stream",
     "text": [
      "Linear Regression | R^2:  0.863595  |  MSE:  354.007001\n",
      "Random Forest     | R^2:  0.856217  |  MSE:  373.155913\n",
      "MLPRegressor      | R^2:  0.866151  |  MSE:  347.374154\n"
     ]
    }
   ],
   "source": [
    "print('Linear Regression | R^2: ', round(r2_lin1,6), ' | ', 'MSE: ', round(mse_lin1,6) )\n",
    "print('Random Forest     | R^2: ', round(r2_for1,6), ' | ', 'MSE: ', round(mse_for1,6) )\n",
    "print('MLPRegressor      | R^2: ', round(r2_mlp1,6), ' | ', 'MSE: ', round(mse_mlp1,6) )"
   ]
  },
  {
   "cell_type": "code",
   "execution_count": 24,
   "id": "b684e9d1",
   "metadata": {},
   "outputs": [
    {
     "data": {
      "text/plain": [
       "array([-3.06781027e-02,  9.95221972e-01, -1.59531481e+00,  8.64666690e-01,\n",
       "        1.13484463e+00,  4.63947048e+01, -3.17960071e+00])"
      ]
     },
     "execution_count": 24,
     "metadata": {},
     "output_type": "execute_result"
    }
   ],
   "source": [
    "linear_1.coef_"
   ]
  },
  {
   "cell_type": "markdown",
   "id": "7994ce65",
   "metadata": {},
   "source": [
    "El orden de los modelos de mejor a peor serian el MLPRegressor, Regresion Lineal y por ultimo Random Forest. Orden creciente de R^2 y decreciente de MSE."
   ]
  },
  {
   "cell_type": "markdown",
   "id": "799bc728",
   "metadata": {},
   "source": [
    "---------------------------\n",
    "\n",
    "## Ejercicio 3\n",
    "\n",
    "\n",
    "Utiliza los diferentes parametros que admiten\n",
    "\n",
    "----------------------------------------------"
   ]
  },
  {
   "cell_type": "markdown",
   "id": "51cd0cc6",
   "metadata": {},
   "source": [
    "Para el modelo lineal implementaremos la variante Ridge que incluye en la funcion a minimizar la suma de los coeficientes al cuadrado.\n",
    "\n",
    "Ridge Linear Regression:\n",
    "\n",
    "* alpha: factor sobre la suma de coeficientes del modelo al cuadrado. alpha=0 seria el modelo lineal standard."
   ]
  },
  {
   "cell_type": "code",
   "execution_count": 25,
   "id": "70b3a4e0",
   "metadata": {},
   "outputs": [],
   "source": [
    "linear_2 = Ridge(alpha=1, random_state=33)\n",
    "\n",
    "#Entrenamos el modelo lineal\n",
    "linear_2.fit(X_train, y_train)\n",
    "\n",
    "#Predecimos a partir de los datos de test\n",
    "y_pred_lin2 = linear_2.predict(X_test)"
   ]
  },
  {
   "cell_type": "code",
   "execution_count": 26,
   "id": "781d7c45",
   "metadata": {},
   "outputs": [],
   "source": [
    "# Modelo Random Forest\n",
    "forest_2 = RandomForestRegressor(n_estimators = 200, \n",
    "                               max_depth=8, min_samples_split= 50, min_samples_leaf=20,\n",
    "                               random_state = 33, criterion= 'squared_error', n_jobs=4,\n",
    "                                verbose=0)\n",
    "\n",
    "#Entrenamos el Forest Regressor\n",
    "forest_2.fit(X_train, y_train)\n",
    "\n",
    "#Predecimos a partir de los datos de test\n",
    "y_pred_for2 = forest_2.predict(X_test)"
   ]
  },
  {
   "cell_type": "code",
   "execution_count": 69,
   "id": "0e9cd7a1",
   "metadata": {},
   "outputs": [
    {
     "name": "stdout",
     "output_type": "stream",
     "text": [
      "Iteration 1, loss = 330.27287621\n",
      "Iteration 2, loss = 174.48419170\n",
      "Iteration 3, loss = 173.77435812\n",
      "Iteration 4, loss = 173.45426210\n",
      "Iteration 5, loss = 172.89292245\n",
      "Iteration 6, loss = 172.72522488\n",
      "Iteration 7, loss = 172.82583959\n",
      "Iteration 8, loss = 172.64346624\n",
      "Iteration 9, loss = 172.96717558\n",
      "Iteration 10, loss = 172.68139183\n",
      "Iteration 11, loss = 172.08906230\n",
      "Iteration 12, loss = 171.98396393\n",
      "Iteration 13, loss = 171.89220632\n",
      "Iteration 14, loss = 171.89937866\n",
      "Iteration 15, loss = 171.66694029\n",
      "Iteration 16, loss = 172.00945894\n",
      "Iteration 17, loss = 171.34450158\n",
      "Iteration 18, loss = 171.59752676\n",
      "Iteration 19, loss = 171.50347744\n",
      "Iteration 20, loss = 171.35942744\n",
      "Iteration 21, loss = 171.10934088\n",
      "Iteration 22, loss = 171.49879327\n",
      "Iteration 23, loss = 170.94434586\n",
      "Iteration 24, loss = 171.13240620\n",
      "Iteration 25, loss = 171.58115997\n",
      "Iteration 26, loss = 171.12105403\n",
      "Iteration 27, loss = 170.84384335\n",
      "Iteration 28, loss = 170.69853920\n",
      "Iteration 29, loss = 170.61053422\n",
      "Iteration 30, loss = 170.48861108\n",
      "Iteration 31, loss = 170.14675903\n",
      "Iteration 32, loss = 170.36536004\n",
      "Iteration 33, loss = 170.71231910\n",
      "Iteration 34, loss = 170.20272141\n",
      "Iteration 35, loss = 170.63976854\n",
      "Iteration 36, loss = 170.15255060\n",
      "Iteration 37, loss = 170.80950197\n",
      "Iteration 38, loss = 170.38908777\n",
      "Iteration 39, loss = 169.77646047\n",
      "Iteration 40, loss = 170.05401651\n",
      "Iteration 41, loss = 169.68771840\n",
      "Iteration 42, loss = 170.35483691\n",
      "Iteration 43, loss = 169.92982622\n",
      "Iteration 44, loss = 170.11336406\n",
      "Iteration 45, loss = 169.93371802\n",
      "Iteration 46, loss = 169.61202953\n",
      "Iteration 47, loss = 169.79051774\n",
      "Iteration 48, loss = 169.33230362\n",
      "Iteration 49, loss = 169.46934770\n",
      "Iteration 50, loss = 169.62155543\n",
      "Iteration 51, loss = 169.80047321\n",
      "Iteration 52, loss = 169.53846078\n",
      "Iteration 53, loss = 169.55846067\n",
      "Iteration 54, loss = 169.29429947\n",
      "Iteration 55, loss = 169.32839799\n",
      "Iteration 56, loss = 169.19133541\n",
      "Iteration 57, loss = 168.98519800\n",
      "Iteration 58, loss = 169.20081054\n",
      "Iteration 59, loss = 169.38915616\n",
      "Iteration 60, loss = 169.07041005\n",
      "Iteration 61, loss = 169.52087071\n",
      "Iteration 62, loss = 169.44987262\n",
      "Iteration 63, loss = 169.30402619\n",
      "Iteration 64, loss = 169.24967938\n",
      "Iteration 65, loss = 168.88056510\n",
      "Iteration 66, loss = 168.91357591\n",
      "Iteration 67, loss = 168.92345559\n",
      "Iteration 68, loss = 168.74017886\n",
      "Iteration 69, loss = 169.13693954\n",
      "Iteration 70, loss = 168.94718411\n",
      "Iteration 71, loss = 169.03206154\n",
      "Iteration 72, loss = 168.91200311\n",
      "Iteration 73, loss = 168.97944226\n",
      "Iteration 74, loss = 168.87626845\n",
      "Iteration 75, loss = 169.25084600\n",
      "Iteration 76, loss = 168.87760808\n",
      "Iteration 77, loss = 168.87605042\n",
      "Iteration 78, loss = 168.65802706\n",
      "Iteration 79, loss = 169.46254612\n",
      "Iteration 80, loss = 168.43797868\n",
      "Iteration 81, loss = 168.69870491\n",
      "Iteration 82, loss = 168.89564534\n",
      "Iteration 83, loss = 168.73943213\n",
      "Iteration 84, loss = 168.60022625\n",
      "Iteration 85, loss = 168.46610830\n",
      "Iteration 86, loss = 168.58734431\n",
      "Iteration 87, loss = 168.24756421\n",
      "Iteration 88, loss = 168.54272568\n",
      "Iteration 89, loss = 168.44335525\n",
      "Iteration 90, loss = 168.51961411\n",
      "Iteration 91, loss = 168.37113762\n",
      "Iteration 92, loss = 168.72807246\n",
      "Iteration 93, loss = 168.44738546\n",
      "Iteration 94, loss = 168.21862624\n",
      "Iteration 95, loss = 168.40409167\n",
      "Iteration 96, loss = 168.14138527\n",
      "Iteration 97, loss = 168.25170196\n",
      "Iteration 98, loss = 168.24386918\n",
      "Iteration 99, loss = 168.61754177\n",
      "Iteration 100, loss = 167.90169473\n",
      "Iteration 101, loss = 168.54127616\n",
      "Iteration 102, loss = 168.11598531\n",
      "Iteration 103, loss = 167.94211845\n",
      "Iteration 104, loss = 168.17628238\n",
      "Iteration 105, loss = 168.15052239\n",
      "Iteration 106, loss = 168.43388834\n",
      "Iteration 107, loss = 168.07614728\n",
      "Iteration 108, loss = 168.03078567\n",
      "Iteration 109, loss = 168.04720998\n",
      "Iteration 110, loss = 167.87673870\n",
      "Iteration 111, loss = 168.16553562\n",
      "Iteration 112, loss = 168.16370503\n",
      "Iteration 113, loss = 168.17297770\n",
      "Iteration 114, loss = 167.75874050\n",
      "Iteration 115, loss = 168.06734959\n",
      "Iteration 116, loss = 167.79330423\n",
      "Iteration 117, loss = 167.83582212\n",
      "Iteration 118, loss = 167.86041554\n",
      "Iteration 119, loss = 168.05528907\n",
      "Iteration 120, loss = 167.88878024\n",
      "Iteration 121, loss = 167.77090487\n",
      "Iteration 122, loss = 167.92976000\n",
      "Iteration 123, loss = 167.83538046\n",
      "Iteration 124, loss = 167.77882455\n",
      "Iteration 125, loss = 168.04341597\n",
      "Training loss did not improve more than tol=0.010000 for 10 consecutive epochs. Stopping.\n"
     ]
    }
   ],
   "source": [
    "# Modelo MLPRegressor\n",
    "mlp_2 = MLPRegressor(hidden_layer_sizes= (140,20), activation='relu', solver='adam',\n",
    "                      learning_rate_init= 0.005, learning_rate='constant', max_iter=200,\n",
    "                      verbose=0, n_iter_no_change=10, tol=0.01, random_state=33)\n",
    "\n",
    "#Entrenamos el MLP Regressor\n",
    "mlp_2.fit(X_train, y_train)\n",
    "\n",
    "#Predecimos a partir de los datos de test\n",
    "y_pred_mlp2 = mlp_2.predict(X_test)"
   ]
  },
  {
   "cell_type": "code",
   "execution_count": 70,
   "id": "9d60f8d4",
   "metadata": {},
   "outputs": [],
   "source": [
    "r2_lin2 = linear_2.score(X_test, y_test)\n",
    "mse_lin2 = mean_squared_error(y_test, y_pred_lin2)\n",
    "\n",
    "r2_for2 = forest_2.score(X_test, y_test)\n",
    "mse_for2 = mean_squared_error(y_test, y_pred_for2)\n",
    "\n",
    "r2_mlp2= mlp_2.score(X_test, y_test)\n",
    "mse_mlp2 = mean_squared_error(y_test, y_pred_mlp2)"
   ]
  },
  {
   "cell_type": "code",
   "execution_count": 71,
   "id": "40d1f979",
   "metadata": {},
   "outputs": [
    {
     "name": "stdout",
     "output_type": "stream",
     "text": [
      "Linear Regression | R^2:  0.863595  |  MSE:  354.007001\n",
      "Ridge Linear Reg  | R^2:  0.863595  |  MSE:  354.006993\n",
      "Random Forest 1   | R^2:  0.856217  |  MSE:  373.155913\n",
      "Random Forest 2   | R^2:  0.864226  |  MSE:  352.368567\n",
      "MLPRegressor  1   | R^2:  0.866151  |  MSE:  347.374154\n",
      "MLPRegressor  2   | R^2:  0.866411  |  MSE:  346.698824\n"
     ]
    }
   ],
   "source": [
    "print('Linear Regression | R^2: ', round(r2_lin1,6), ' | ', 'MSE: ', round(mse_lin1,6) )\n",
    "print('Ridge Linear Reg  | R^2: ', round(r2_lin2,6), ' | ', 'MSE: ', round(mse_lin2,6) )\n",
    "print('Random Forest 1   | R^2: ', round(r2_for1,6), ' | ', 'MSE: ', round(mse_for1,6) )\n",
    "print('Random Forest 2   | R^2: ', round(r2_for2,6), ' | ', 'MSE: ', round(mse_for2,6) )\n",
    "print('MLPRegressor  1   | R^2: ', round(r2_mlp1,6), ' | ', 'MSE: ', round(mse_mlp1,6) )\n",
    "print('MLPRegressor  2   | R^2: ', round(r2_mlp2,6), ' | ', 'MSE: ', round(mse_mlp2,6) )"
   ]
  },
  {
   "cell_type": "markdown",
   "id": "03c6c459",
   "metadata": {},
   "source": [
    "--------------------\n",
    "\n",
    "## Ejercicio 4\n",
    "\n",
    "Compara el rendimiento entre usar o no usar el train/test\n",
    "\n",
    "----------------------"
   ]
  },
  {
   "cell_type": "code",
   "execution_count": 30,
   "id": "0c1670ba",
   "metadata": {},
   "outputs": [],
   "source": [
    "#Standardizamos todo el database\n",
    "scaler2 = preprocessing.StandardScaler()\n",
    "# Fit to ALL data. Then transform it.\n",
    "M = scaler2.fit_transform(X)\n",
    "#Volvemos a meter la matriz en el dataframe XX\n",
    "XX = pd.DataFrame(M, columns= feat_X )"
   ]
  },
  {
   "cell_type": "code",
   "execution_count": 31,
   "id": "681d9bd3",
   "metadata": {},
   "outputs": [
    {
     "data": {
      "text/plain": [
       "(98007, 7)"
      ]
     },
     "execution_count": 31,
     "metadata": {},
     "output_type": "execute_result"
    }
   ],
   "source": [
    "XX.shape"
   ]
  },
  {
   "cell_type": "code",
   "execution_count": 32,
   "id": "ddab5fc9",
   "metadata": {},
   "outputs": [
    {
     "name": "stderr",
     "output_type": "stream",
     "text": [
      "c:\\python38\\lib\\site-packages\\sklearn\\neural_network\\_multilayer_perceptron.py:692: ConvergenceWarning: Stochastic Optimizer: Maximum iterations (200) reached and the optimization hasn't converged yet.\n",
      "  warnings.warn(\n"
     ]
    }
   ],
   "source": [
    "# Modelo Lineal\n",
    "model1 = LinearRegression(n_jobs=4)\n",
    "model1.fit(XX, y)\n",
    "y_pred_1= model1.predict(XX)\n",
    "\n",
    "# Modelo Random Forest\n",
    "model2 = RandomForestRegressor()\n",
    "model2.fit(XX, y)\n",
    "y_pred_2= model2.predict(XX)\n",
    "\n",
    "# Modelo MLPRegressor\n",
    "model3 = MLPRegressor()\n",
    "model3.fit(XX, y)\n",
    "y_pred_3= model3.predict(XX)"
   ]
  },
  {
   "cell_type": "markdown",
   "id": "1438b85f",
   "metadata": {},
   "source": [
    "Evaluamos las predicciones"
   ]
  },
  {
   "cell_type": "code",
   "execution_count": 33,
   "id": "a4972b63",
   "metadata": {},
   "outputs": [
    {
     "name": "stdout",
     "output_type": "stream",
     "text": [
      "Linear Reg. All Data | R^2:  0.861602   |  MSE: 349.812151\n",
      "Ridge Linear Test D  | R^2:  0.863595  |  MSE:  354.007001\n",
      "Forest Reg. All Data | R^2:  0.977595  |  MSE: 56.629982\n",
      "Random For2  Test D  | R^2:  0.856217  |  MSE:  373.155913\n",
      "MLP Reg.  All Data   | R^2:  0.865594  |  MSE: 339.720798\n",
      "MLPRegressor  2      | R^2:  0.866151  |  MSE:  347.374154\n"
     ]
    }
   ],
   "source": [
    "r2_m1= model1.score(XX, y)\n",
    "mse1 = mean_squared_error(y, y_pred_1)\n",
    "r2_m2= model2.score(XX, y)\n",
    "mse2 = mean_squared_error(y, y_pred_2)\n",
    "r2_m3= model3.score(XX, y)\n",
    "mse3 = mean_squared_error(y, y_pred_3)\n",
    "\n",
    "print('Linear Reg. All Data | R^2: ', round(r2_m1,6), '  | ', 'MSE:', round(mse1,6) )\n",
    "print('Linear Reg.  Test D  | R^2: ', round(r2_lin1,6), ' | ', 'MSE: ', round(mse_lin1,6) )\n",
    "print('Forest Reg. All Data | R^2: ', round(r2_m2,6), ' | ', 'MSE:', round(mse2,6) )\n",
    "print('Forest Reg.  Test D  | R^2: ', round(r2_for1,6), ' | ', 'MSE: ', round(mse_for1,6) )\n",
    "print('MLP Reg.    All Data | R^2: ', round(r2_m3,6), ' | ', 'MSE:', round(mse3,6) )\n",
    "print('MLP Reg.    Test D   | R^2: ', round(r2_mlp1,6), ' | ', 'MSE: ', round(mse_mlp1,6) )"
   ]
  },
  {
   "cell_type": "markdown",
   "id": "38433abd",
   "metadata": {},
   "source": [
    "En general hacer la validacion con los mismos datos con los que se entrena el modelo dara R^2 mayor y MSE menor. Esto indicaria que las predicciones son mejores. No obstante es mejor hacer un test del modelo con datos que no hayan intervenido en la construccion del modelo. \n",
    "\n",
    "Asi se puede valorar la prediccion de datos que el modelo no ha usado. El sobre-entreno o 'Over Fitting' puede llevar a un modelo que prediga con precision los datos con los que fue construido pero le resulte dificil realizar una buena prediccion de datos que aun no ha visto."
   ]
  },
  {
   "cell_type": "markdown",
   "id": "dd8e7338",
   "metadata": {},
   "source": [
    "-----------------------\n",
    "\n",
    "## Ejercicio 5\n",
    "\n",
    "Realiza algun proceso de Ingenieria de Variables para mejorar la prediccion.\n",
    "\n",
    "-----------------------"
   ]
  },
  {
   "cell_type": "markdown",
   "id": "14389901",
   "metadata": {},
   "source": [
    "Añadiremos la mejor variable predictora 'DepDelay' al cuadrado y al cubo en la matriz de caracteristicas. "
   ]
  },
  {
   "cell_type": "code",
   "execution_count": 34,
   "id": "efdf53c6",
   "metadata": {},
   "outputs": [],
   "source": [
    "X_fe = X"
   ]
  },
  {
   "cell_type": "code",
   "execution_count": 35,
   "id": "ef43a13c",
   "metadata": {},
   "outputs": [
    {
     "data": {
      "text/plain": [
       "['DayOfWeek',\n",
       " 'DepTime',\n",
       " 'CRSDepTime',\n",
       " 'CRSArrTime',\n",
       " 'CRSElapsedTime',\n",
       " 'DepDelay',\n",
       " 'Distance',\n",
       " 'DD2',\n",
       " 'DD3']"
      ]
     },
     "execution_count": 35,
     "metadata": {},
     "output_type": "execute_result"
    }
   ],
   "source": [
    "feat_X_fe = feat_X\n",
    "feat_X_fe.append('DD2')\n",
    "feat_X_fe.append('DD3')\n",
    "feat_X_fe"
   ]
  },
  {
   "cell_type": "code",
   "execution_count": 36,
   "id": "a4d63b9a",
   "metadata": {},
   "outputs": [],
   "source": [
    "X_fe['DD2']=X_fe['DepDelay']**2"
   ]
  },
  {
   "cell_type": "code",
   "execution_count": 37,
   "id": "6b8948b2",
   "metadata": {},
   "outputs": [],
   "source": [
    "X_fe['DD3']=X_fe['DepDelay']**3"
   ]
  },
  {
   "cell_type": "code",
   "execution_count": 38,
   "id": "8dc2eb8f",
   "metadata": {},
   "outputs": [
    {
     "data": {
      "text/html": [
       "<div>\n",
       "<style scoped>\n",
       "    .dataframe tbody tr th:only-of-type {\n",
       "        vertical-align: middle;\n",
       "    }\n",
       "\n",
       "    .dataframe tbody tr th {\n",
       "        vertical-align: top;\n",
       "    }\n",
       "\n",
       "    .dataframe thead th {\n",
       "        text-align: right;\n",
       "    }\n",
       "</style>\n",
       "<table border=\"1\" class=\"dataframe\">\n",
       "  <thead>\n",
       "    <tr style=\"text-align: right;\">\n",
       "      <th></th>\n",
       "      <th>DayOfWeek</th>\n",
       "      <th>DepTime</th>\n",
       "      <th>CRSDepTime</th>\n",
       "      <th>CRSArrTime</th>\n",
       "      <th>CRSElapsedTime</th>\n",
       "      <th>DepDelay</th>\n",
       "      <th>Distance</th>\n",
       "      <th>DD2</th>\n",
       "      <th>DD3</th>\n",
       "    </tr>\n",
       "  </thead>\n",
       "  <tbody>\n",
       "    <tr>\n",
       "      <th>81557</th>\n",
       "      <td>2</td>\n",
       "      <td>1925.0</td>\n",
       "      <td>1855</td>\n",
       "      <td>2114</td>\n",
       "      <td>139.0</td>\n",
       "      <td>30.0</td>\n",
       "      <td>646</td>\n",
       "      <td>900.0</td>\n",
       "      <td>27000.0</td>\n",
       "    </tr>\n",
       "    <tr>\n",
       "      <th>81558</th>\n",
       "      <td>2</td>\n",
       "      <td>152.0</td>\n",
       "      <td>146</td>\n",
       "      <td>917</td>\n",
       "      <td>331.0</td>\n",
       "      <td>6.0</td>\n",
       "      <td>2551</td>\n",
       "      <td>36.0</td>\n",
       "      <td>216.0</td>\n",
       "    </tr>\n",
       "    <tr>\n",
       "      <th>81559</th>\n",
       "      <td>2</td>\n",
       "      <td>1407.0</td>\n",
       "      <td>1400</td>\n",
       "      <td>1514</td>\n",
       "      <td>74.0</td>\n",
       "      <td>7.0</td>\n",
       "      <td>227</td>\n",
       "      <td>49.0</td>\n",
       "      <td>343.0</td>\n",
       "    </tr>\n",
       "    <tr>\n",
       "      <th>81560</th>\n",
       "      <td>2</td>\n",
       "      <td>2206.0</td>\n",
       "      <td>2142</td>\n",
       "      <td>2300</td>\n",
       "      <td>258.0</td>\n",
       "      <td>24.0</td>\n",
       "      <td>1747</td>\n",
       "      <td>576.0</td>\n",
       "      <td>13824.0</td>\n",
       "    </tr>\n",
       "    <tr>\n",
       "      <th>81561</th>\n",
       "      <td>2</td>\n",
       "      <td>1453.0</td>\n",
       "      <td>1440</td>\n",
       "      <td>1703</td>\n",
       "      <td>143.0</td>\n",
       "      <td>13.0</td>\n",
       "      <td>665</td>\n",
       "      <td>169.0</td>\n",
       "      <td>2197.0</td>\n",
       "    </tr>\n",
       "  </tbody>\n",
       "</table>\n",
       "</div>"
      ],
      "text/plain": [
       "       DayOfWeek  DepTime  CRSDepTime  CRSArrTime  CRSElapsedTime  DepDelay  \\\n",
       "81557          2   1925.0        1855        2114           139.0      30.0   \n",
       "81558          2    152.0         146         917           331.0       6.0   \n",
       "81559          2   1407.0        1400        1514            74.0       7.0   \n",
       "81560          2   2206.0        2142        2300           258.0      24.0   \n",
       "81561          2   1453.0        1440        1703           143.0      13.0   \n",
       "\n",
       "       Distance    DD2      DD3  \n",
       "81557       646  900.0  27000.0  \n",
       "81558      2551   36.0    216.0  \n",
       "81559       227   49.0    343.0  \n",
       "81560      1747  576.0  13824.0  \n",
       "81561       665  169.0   2197.0  "
      ]
     },
     "execution_count": 38,
     "metadata": {},
     "output_type": "execute_result"
    }
   ],
   "source": [
    "X_fe.head()"
   ]
  },
  {
   "cell_type": "code",
   "execution_count": 39,
   "id": "c6201d4d",
   "metadata": {},
   "outputs": [
    {
     "name": "stdout",
     "output_type": "stream",
     "text": [
      "(78405, 9) (19602, 9) (78405,) (19602,)\n"
     ]
    }
   ],
   "source": [
    "# Dividimos los datos (X,y) en training y test (X_train, X_test, y_train, y_test)\n",
    "\n",
    "X_fe_train, X_fe_test, y_train, y_test = train_test_split(X_fe, y, train_size=0.8, test_size=0.2, random_state=33)\n",
    "print(X_fe_train.shape, X_fe_test.shape, y_train.shape, y_test.shape)"
   ]
  },
  {
   "cell_type": "code",
   "execution_count": 40,
   "id": "6bad7b2f",
   "metadata": {},
   "outputs": [],
   "source": [
    "scaler3 = preprocessing.StandardScaler()"
   ]
  },
  {
   "cell_type": "code",
   "execution_count": 41,
   "id": "4bdaa9e4",
   "metadata": {},
   "outputs": [],
   "source": [
    "# Fit to TRAIN data. Then transform it.\n",
    "M_fe_train = scaler3.fit_transform(X_fe_train)\n",
    "#Volvemos a meter la matriz en dataframe\n",
    "X_fe_train = pd.DataFrame(M_fe_train, columns= feat_X_fe )\n",
    "\n",
    "# Transform TEST data \n",
    "M_fe_test = scaler3.transform(X_fe_test)\n",
    "#Volvemos a meter la matriz en dataframe\n",
    "X_fe_test= pd.DataFrame(M_fe_test, columns= feat_X_fe )"
   ]
  },
  {
   "cell_type": "code",
   "execution_count": 42,
   "id": "95c2fc7f",
   "metadata": {},
   "outputs": [],
   "source": [
    "# Modelo Lineal\n",
    "model1b = LinearRegression(n_jobs=4)\n",
    "\n",
    "#Entrenamos el modelo lineal\n",
    "model1b.fit(X_fe_train, y_train)\n",
    "\n",
    "y_pred_1b= model1b.predict(X_fe_test)"
   ]
  },
  {
   "cell_type": "code",
   "execution_count": 43,
   "id": "7e31c5f0",
   "metadata": {},
   "outputs": [
    {
     "name": "stdout",
     "output_type": "stream",
     "text": [
      "Linear Regression X_fe Validation Results: R^2: 0.863624 MSE: 353.930786\n"
     ]
    }
   ],
   "source": [
    "r2_m1b= model1b.score(X_fe_test, y_test)\n",
    "mse1b = mean_squared_error(y_test, y_pred_1b)\n",
    "\n",
    "print('Linear Regression X_fe Validation Results: R^2:', round(r2_m1b,6), 'MSE:', round(mse1b,6) )"
   ]
  },
  {
   "cell_type": "markdown",
   "id": "c3e97334",
   "metadata": {},
   "source": [
    "Observamos como la introduccion de 'DepDelay' al cuadrado y al cubo ha mejorado levemente la prediccion del modelo. El modelo lineal sin estas variables habia dado R^2:0.863595  y MSE:354.007001 Observamos un valor de R^2 mayor y menor MSE para las predicciones realizadas sobre el conjunto de datos de test.\n",
    "\n"
   ]
  },
  {
   "cell_type": "markdown",
   "id": "b7a81466",
   "metadata": {},
   "source": [
    "----------------------------\n",
    "\n",
    "## Ejercicio 6\n",
    "\n",
    "No utilices la variable 'DepDelay' en las prediciones\n",
    "\n",
    "----------------------------"
   ]
  },
  {
   "cell_type": "markdown",
   "id": "12d7e5ac",
   "metadata": {},
   "source": [
    "Definamos la lista de variables a usar X_train_red y X_test_red "
   ]
  },
  {
   "cell_type": "code",
   "execution_count": 44,
   "id": "1e8b2c4e",
   "metadata": {},
   "outputs": [],
   "source": [
    "X_train_red = X_train.drop( columns='DepDelay', inplace= False )\n",
    "X_test_red = X_test.drop(columns='DepDelay', inplace=False )"
   ]
  },
  {
   "cell_type": "code",
   "execution_count": 45,
   "id": "c67a2be9",
   "metadata": {},
   "outputs": [],
   "source": [
    "# Modelo Lineal\n",
    "model1c = LinearRegression(n_jobs=4)\n",
    "\n",
    "# Modelo Random Forest\n",
    "model2c = RandomForestRegressor(n_estimators = 200, \n",
    "                               max_depth=10, min_samples_split= 50, min_samples_leaf=20,\n",
    "                               random_state = 33, criterion= 'squared_error', n_jobs=4)\n",
    "\n",
    "# Modelo MLPRegressor\n",
    "model3c = MLPRegressor(hidden_layer_sizes= (20,10,), activation='relu', solver='adam',\n",
    "                      learning_rate_init= 0.05, learning_rate='adaptive', max_iter=100,\n",
    "                      random_state=33)"
   ]
  },
  {
   "cell_type": "code",
   "execution_count": 46,
   "id": "6839a2f9",
   "metadata": {},
   "outputs": [
    {
     "data": {
      "text/plain": [
       "LinearRegression(n_jobs=4)"
      ]
     },
     "execution_count": 46,
     "metadata": {},
     "output_type": "execute_result"
    }
   ],
   "source": [
    "#Entrenamos el modelo lineal\n",
    "model1c.fit(X_train_red, y_train)\n"
   ]
  },
  {
   "cell_type": "code",
   "execution_count": 47,
   "id": "93eecf27",
   "metadata": {},
   "outputs": [
    {
     "name": "stdout",
     "output_type": "stream",
     "text": [
      "Linear Regression noDepDelay Validation Results: R^2: 0.017154 MSE: 2550.745076\n"
     ]
    }
   ],
   "source": [
    "y_pred_1c= model1c.predict(X_test_red)\n",
    "r2_m1c = model1c.score(X_test_red, y_test)\n",
    "mse1c = mean_squared_error(y_test, y_pred_1c)\n",
    "\n",
    "print('Linear Regression noDepDelay Validation Results: R^2:', round(r2_m1c,6), 'MSE:', round(mse1c,6) )"
   ]
  },
  {
   "cell_type": "markdown",
   "id": "dc189800",
   "metadata": {},
   "source": [
    "Claramente obtenemos peor resultado en las predicciones. Menor R^2 y mayor MSE"
   ]
  },
  {
   "cell_type": "code",
   "execution_count": null,
   "id": "8a784493",
   "metadata": {},
   "outputs": [],
   "source": []
  }
 ],
 "metadata": {
  "kernelspec": {
   "display_name": "Python 3 (ipykernel)",
   "language": "python",
   "name": "python3"
  },
  "language_info": {
   "codemirror_mode": {
    "name": "ipython",
    "version": 3
   },
   "file_extension": ".py",
   "mimetype": "text/x-python",
   "name": "python",
   "nbconvert_exporter": "python",
   "pygments_lexer": "ipython3",
   "version": "3.8.10"
  }
 },
 "nbformat": 4,
 "nbformat_minor": 5
}
